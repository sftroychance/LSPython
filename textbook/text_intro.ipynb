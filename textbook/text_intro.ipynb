{
 "cells": [
  {
   "cell_type": "markdown",
   "id": "943f5d9e-bf29-4aa6-bb63-8d3a64e16366",
   "metadata": {},
   "source": [
    "# Indentation\n",
    "- Indentation matters in Python!\n",
    "- Block introduced with `:` and then must be indented\n",
    "- A block ends when indentation ends\n",
    "\n",
    "# Style notes\n",
    "- Set indentation at 4 spaces (expand tabs to spaces)\n",
    "- Limit lines to 79 chars\n",
    "- Spaces around operators except `**`\n",
    "- `#` defines beginning of comment \n",
    "- avoid more than 2 levels of indentation\n",
    "\n",
    "# Line continuation\n",
    "- Strings can continue over several lines, if you enclose all string content in parentheses\n",
    "- `\\` to end a line you want to contiue\n",
    "- if you break expressions over multiple lines, the expression must be in parentheses, and operators should be at the beginning of the subsequent line\n",
    "- you can also break method chains over multiple lines, but again, the entire expression must be in parentheses, and with the `.` at the beginning of each subsequent line\n",
    "\n",
    "# Debugging with print\n",
    "- print statements require parentheses"
   ]
  },
  {
   "cell_type": "code",
   "execution_count": 2,
   "id": "4363a2bd-4f65-4714-b86e-f4f4dcf19219",
   "metadata": {},
   "outputs": [
    {
     "name": "stdout",
     "output_type": "stream",
     "text": [
      "This is a long string. It's actually very long. It spans multiple lines. Are you getting tired of this? So am I.\n"
     ]
    }
   ],
   "source": [
    "my_string = (\"This is a long string. \"\n",
    "             \"It's actually very long. \"\n",
    "             \"It spans multiple lines. \"\n",
    "             \"Are you getting tired of this? \"\n",
    "             \"So am I.\")\n",
    "print(my_string)"
   ]
  },
  {
   "cell_type": "code",
   "execution_count": 3,
   "id": "31f1892e-3b1d-400e-a77a-d7351504b012",
   "metadata": {},
   "outputs": [
    {
     "name": "stdout",
     "output_type": "stream",
     "text": [
      "25\n",
      "False\n"
     ]
    }
   ],
   "source": [
    "print (5 * \\\n",
    "    5)\n",
    "\n",
    "print ('35' > '5')"
   ]
  },
  {
   "cell_type": "markdown",
   "id": "e4c8f965-bf7c-40ac-9f74-6dad0a8e9b85",
   "metadata": {},
   "source": [
    "# Data types\n",
    "- Everything with a value in Python is an **object**\n",
    "- Each object has an associated data type with an associated class\n",
    "\n",
    "## Primitive types (all immutable)\n",
    "- `int`\n",
    "- `float`\n",
    "- `bool` => actually a subtype of `int`\n",
    "- `str`\n",
    "\n",
    "## Non-primitive types aka Collection types\n",
    "- `range` `range(10)` => range of numbers 0 to 9\n",
    "- `tuple` `(1, 2, 3)`\n",
    "- `list` **mutable** `[1, 2, 3]`\n",
    "- `dict` **mutable** `{'a': 1, 'b': 2}`\n",
    "- `set`  **mutable** `{1, 2, 3}`, `set()` => empty set\n",
    "- `frozenset` `frozenset([1, 2, 3])`\n",
    "\n",
    "## Other types (some consider primitive)\n",
    "- `function`\n",
    "- `NoneType`\n",
    "\n",
    "# Numeric\n",
    "`int`: no predefined limit to size, optional underscores to break up: `123_456`\n",
    "\n",
    "`float`\n",
    "\n",
    "# Boolean\n",
    "`True`\n",
    "`False`\n",
    "- note capitalized\n",
    "- comparison operators have Boolean result\n",
    "\n",
    "# Text\n",
    "A string is a *text sequence* and can be iterated as such.\n",
    "- ordinary sequences contain objects, but text sequences contain simply characters, not objects\n",
    "- single or double quotes are fine\n",
    "- triple quotes main for multiline strings\n",
    "- `\\` to escape chars (such as quote marks)\n",
    "- raw string literals do not recognize escapes: `r\"howdy/there\"`\n",
    "- characters can be accessed with bracket notation (but not modified)"
   ]
  },
  {
   "cell_type": "code",
   "execution_count": 4,
   "id": "9998e72f-c83e-4c42-9bc0-b5e942c1d35f",
   "metadata": {},
   "outputs": [
    {
     "name": "stdout",
     "output_type": "stream",
     "text": [
      "h\n",
      "e\n",
      "l\n",
      "l\n",
      "o\n",
      "h\n"
     ]
    }
   ],
   "source": [
    "greeting = 'hello'\n",
    "\n",
    "for letter in greeting:\n",
    "    print(letter)\n",
    "\n",
    "print(greeting[0])"
   ]
  },
  {
   "cell_type": "markdown",
   "id": "8b8ed255-ef7a-420c-aa12-57d26f9e60d7",
   "metadata": {},
   "source": [
    "## String interpolation\n",
    "formatted string literals *aka* f-strings allow string interpolation\n",
    "\n",
    "`f'5 plus 5 equals {5 + 5}'`\n",
    "\n",
    "# Functions\n",
    "Chunks of reusable code\n",
    "\n",
    "# None\n",
    "Absence of value (intentional or unset, or error indication)\n",
    "`None` literal value, only value of `NoneType` class\n",
    "\n",
    "# Sequence\n",
    "An ordered collection of objects.\n",
    "- list and tuple\n",
    "- can be a mix of element types, including another list\n",
    "## `list`\n",
    "`['one', [2, 3], True]`\n",
    "## `tuple`\n",
    "`('one', [2, 3], True)`\n",
    "\n",
    "Lists are mutable; tuples are not. Tuples might thus seem limited, but Python can optimize them more for store and performance. \n",
    "\n",
    "List value can be mutated with bracket notation: *indexed reassignment*\n",
    "\n",
    "Odd: A 1-element tuple requires a comma: `my_tuple = (1,)\n",
    "- otherwise will be interpreted as a `1` in parentheses"
   ]
  },
  {
   "cell_type": "code",
   "execution_count": 5,
   "id": "21dc54db-0c8b-42bc-95d4-36ccd2e26dc5",
   "metadata": {},
   "outputs": [
    {
     "name": "stdout",
     "output_type": "stream",
     "text": [
      "[1, 4, 3]\n",
      "3\n"
     ]
    }
   ],
   "source": [
    "my_list = [1, 2, 3]\n",
    "my_list[1] = 4\n",
    "print(my_list)\n",
    "print(my_list[-1]) # negative index seems ok"
   ]
  },
  {
   "cell_type": "markdown",
   "id": "5cbc2e3f-fd35-4bdf-9d51-689aaa731707",
   "metadata": {},
   "source": [
    "# Range\n",
    "`range(5)` => 0 through 4\n",
    "`range(1, 6)` => 1 through 5\n",
    "`range(1, 11, 2)` => 1, 3, 5, 7, 9\n",
    "common:\n",
    "- `list(range(5))`\n",
    "- `tuple(range(1, 6))`\n",
    "\n",
    "Ranges are optimized to save memory compared to list or tuple.\n",
    "Can access element using bracket notation.\n",
    "Can iterate over ranges like any sequence:"
   ]
  },
  {
   "cell_type": "code",
   "execution_count": 6,
   "id": "87fb2b37-8724-4588-a26b-c7b916998585",
   "metadata": {},
   "outputs": [
    {
     "name": "stdout",
     "output_type": "stream",
     "text": [
      "1\n",
      "2\n",
      "3\n",
      "4\n",
      "5\n",
      "\n",
      "1\n",
      "3\n",
      "5\n",
      "7\n",
      "9\n",
      "\n",
      "3\n"
     ]
    }
   ],
   "source": [
    "for num in range(1, 6):\n",
    "    print(num)\n",
    "print()\n",
    "for num in range(1, 11, 2):\n",
    "    print(num)\n",
    "print()\n",
    "print(range(0, 5)[3])"
   ]
  },
  {
   "cell_type": "markdown",
   "id": "8eed16ba-8ad7-4bc5-bd47-3fd7c39c1cad",
   "metadata": {},
   "source": [
    "# Map\n",
    "Unordered collection of objects stored as key/value pairs.\n",
    "`dict`\n",
    "- access with bracket notation\n",
    "- cannot access with property syntax (eg `my_dict.name`)\n",
    "- almost any immutable object can be a dict key (the key must be hashable)"
   ]
  },
  {
   "cell_type": "code",
   "execution_count": 7,
   "id": "942f1f87-7010-4bb8-8abc-b628b4887054",
   "metadata": {},
   "outputs": [
    {
     "name": "stdout",
     "output_type": "stream",
     "text": [
      "Troy\n",
      "{'Asta': 'dog', 'Butterscotch': 'cat', 'Pudding': 'cat', 'Neptune': 'fish', 'Darwin': 'lizard'}\n"
     ]
    }
   ],
   "source": [
    "my_dict = {'name': 'Troy', 'age': 56}\n",
    "print(my_dict['name'])\n",
    "# print(my_dict['nonexistent']) # => KeyError\n",
    "\n",
    "# note for readability defining dict\n",
    "pets = {\n",
    "    'Asta':         'dog',\n",
    "    'Butterscotch': 'cat',\n",
    "    'Pudding':      'cat',\n",
    "    'Neptune':      'fish',\n",
    "    'Darwin':       'lizard',\n",
    "}\n",
    "print(pets)"
   ]
  },
  {
   "cell_type": "markdown",
   "id": "f52582cc-aa2a-495e-a9e1-bbda5762a76a",
   "metadata": {},
   "source": [
    "# Set\n",
    "Unordered collection of *unique* objects (called members).\n",
    "- values must be immutable (hashable)\n",
    "- ordinary set: `set()`\n",
    "- frozen set: `frozenset()` => immutable - there is no literal syntax, must be created with `frozenset()` function"
   ]
  },
  {
   "cell_type": "code",
   "execution_count": 8,
   "id": "ebc97e83-536c-4398-b121-306890160167",
   "metadata": {},
   "outputs": [
    {
     "name": "stdout",
     "output_type": "stream",
     "text": [
      "{1, 2, 3}\n",
      "frozenset({1, 2, 3})\n",
      "{'o', 'y', 'w', 'd', 'h'}\n",
      "['h', 'o', 'w', 'd', 'y']\n"
     ]
    }
   ],
   "source": [
    "my_set = {1, 2, 3} # literal syntax\n",
    "my_empty_set = set() # there is no literal syntax for empty set\n",
    "print(my_set)\n",
    "\n",
    "my_frozen_set = frozenset(my_set) # this works \n",
    "print(my_frozen_set)\n",
    "\n",
    "my_letter_set = set('howdy') # char order not preserved\n",
    "print(my_letter_set)\n",
    "\n",
    "print(list('howdy'))"
   ]
  },
  {
   "cell_type": "markdown",
   "id": "a9287b3f-b05c-49f7-813d-eec1f03c6bf1",
   "metadata": {},
   "source": [
    "# Basic Operations\n",
    "\n",
    "## Kinds of types\n",
    "- built-in: part of Python\n",
    "- standard: available from modules you can import, not automatically loaded\n",
    "- non-standard: from custom modules you create\n",
    "\n",
    "## Arithmetic operators\n",
    "- `/` => return value is always `float`\n",
    "- `//` => integer division => floor of result "
   ]
  },
  {
   "cell_type": "code",
   "execution_count": 9,
   "id": "5a98ff8d-3896-4ca8-b62d-184280025b06",
   "metadata": {},
   "outputs": [
    {
     "name": "stdout",
     "output_type": "stream",
     "text": [
      "5.0\n",
      "-2\n"
     ]
    }
   ],
   "source": [
    "print(5 / 1)\n",
    "print(-5 // 3)"
   ]
  },
  {
   "cell_type": "markdown",
   "id": "d925ea63-f266-47fe-8125-9dcc57b98493",
   "metadata": {},
   "source": [
    "- `%`: modulo operator (returns a modulus) try to stick with positive numbers\n",
    "\n",
    "## Floating point math\n",
    "Floating point math is imprecise. To get around this:\n",
    "- use `math.isclose(0.1 + 0.2, 0.3)` - must `import math`\n",
    "- `decimal.Decimal`\n",
    "   - must use strings with `decimal.Decimal`"
   ]
  },
  {
   "cell_type": "code",
   "execution_count": 10,
   "id": "bc859f85-0711-4737-a241-1ed9e2f96c81",
   "metadata": {},
   "outputs": [
    {
     "name": "stdout",
     "output_type": "stream",
     "text": [
      "True\n",
      "True\n"
     ]
    }
   ],
   "source": [
    "import math\n",
    "print(math.isclose(0.1 + 0.2, 0.3))\n",
    "\n",
    "from decimal import Decimal\n",
    "print(Decimal('0.1') + Decimal('0.2') == Decimal('0.3'))"
   ]
  },
  {
   "cell_type": "markdown",
   "id": "861c31d2-df77-4a80-bd88-80e3c602b2b4",
   "metadata": {},
   "source": [
    "## Equality comparison\n",
    "For built-in types:\n",
    "`a == b` is True if both are same value and same type\n",
    "- exception: built-in/standard number types can be different as long as both are numeric\n",
    "\n",
    "Otherwise, for standard and non-standard types, must check documentation or test to determine behavior."
   ]
  },
  {
   "cell_type": "code",
   "execution_count": 11,
   "id": "a4d9d143-21b2-4342-a301-f1a515208161",
   "metadata": {},
   "outputs": [
    {
     "name": "stdout",
     "output_type": "stream",
     "text": [
      "False\n",
      "True\n"
     ]
    }
   ],
   "source": [
    "print(5 == '5')\n",
    "print(5 == 5.0)"
   ]
  },
  {
   "cell_type": "markdown",
   "id": "66925db8-e659-4b7b-bc77-d0be1b1b9ed3",
   "metadata": {},
   "source": [
    "## Ordered comparison\n",
    "- strings are compared lexicographically (char by char)\n",
    "- numeric chars < uppercase < lowercase\n",
    "- non-alphanumeric => must check ascii values\n",
    "### Sets\n",
    "set_a < set_b if set_a is subset of set_b\n",
    "set_a > set_b if set_a is superset of set_b\n",
    "### Lists and Tuples\n",
    "- compared element by element"
   ]
  },
  {
   "cell_type": "code",
   "execution_count": 12,
   "id": "75966c2d-88a8-479d-ae06-07d8933f0e8d",
   "metadata": {},
   "outputs": [
    {
     "name": "stdout",
     "output_type": "stream",
     "text": [
      "True\n",
      "False\n",
      "True\n",
      "True\n",
      "True\n"
     ]
    }
   ],
   "source": [
    "print('abc' < 'abcdef')\n",
    "print('abd' < 'abcdef')\n",
    "print({3, 1, 2} < {2, 4, 3, 1})\n",
    "print([1, 2, 3] < [1, 2, 3, 4])\n",
    "print([1, 3, 3] < [1, 4, 3])"
   ]
  },
  {
   "cell_type": "markdown",
   "id": "5cd81aaf-42df-4759-9fe8-50aa5576bb5b",
   "metadata": {},
   "source": [
    "# String Concatenation\n",
    "`+` operator for concatenation - both must be `str`\n",
    "`*` operator for `int` * `str` for repetitive concatenation"
   ]
  },
  {
   "cell_type": "code",
   "execution_count": 13,
   "id": "d2e24e7d-e292-401d-a3ed-1f5e3cd3b54c",
   "metadata": {},
   "outputs": [
    {
     "name": "stdout",
     "output_type": "stream",
     "text": [
      "11\n",
      "11111\n"
     ]
    }
   ],
   "source": [
    "# 1 + '1' => TypeError\n",
    "print('1' + '1')\n",
    "print('1' * 5)"
   ]
  },
  {
   "cell_type": "markdown",
   "id": "790d981c-2c7c-4d8c-94b4-17266f10b885",
   "metadata": {},
   "source": [
    "# Coercion\n",
    "## Strings to numbers\n",
    "- `int(str)` `str` can contain only digits, no decimals or alpha\n",
    "- `float(str)` `str` can be digits only or digits with decimals, no alpha"
   ]
  },
  {
   "cell_type": "code",
   "execution_count": 14,
   "id": "89e86d04-c407-4e1b-8736-8d9a9a587513",
   "metadata": {},
   "outputs": [
    {
     "name": "stdout",
     "output_type": "stream",
     "text": [
      "2\n",
      "2.0\n"
     ]
    }
   ],
   "source": [
    "print(int('2'))\n",
    "# print(int('2x')) => ValueError\n",
    "# print(int('2.5')) => SyntaxError\n",
    "print(float('2')) # => 2.0\n",
    "# print(float('2.5x')) => ValueError"
   ]
  },
  {
   "cell_type": "markdown",
   "id": "2e58b1e2-7d7a-47ee-8e3a-95454fee6499",
   "metadata": {},
   "source": [
    "## Numbers to strings\n",
    "`str()` can convert most Python values to `str`\n",
    "\n",
    "## Implicit Coercion\n",
    "- `print()` will coerce any object to `str`\n",
    "\n",
    "| typeA | typeB | result\n",
    "| --- | --- | --- |\n",
    "| int | float | float\n",
    "| int | Decimal | Decimal\n",
    "| int | Fraction | Fraction\n",
    "| float | Fraction | float\n",
    "| float | Decimal | *error*\n",
    "| Decimal | Fraction | *error*\n",
    "\n",
    "### Boolean\n",
    "If you use `bool` in an arithmetic expression:\n",
    "- `True` coerced to `1`\n",
    "- `False` coerced to `0`\n",
    "\n",
    "# Determining types\n",
    "`type(1)` => `<class 'int'>`<br>\n",
    "`type(None)` => `<class 'NoneType'>`<br>\n",
    "`type(1).__name__` => `int`\n",
    "\n",
    "`type('abc') is str` => `True`\n",
    "\n",
    "`isinstance('abc', str)` => `True`"
   ]
  },
  {
   "cell_type": "code",
   "execution_count": 15,
   "id": "1cf84721-c964-4faa-a2f8-aed32bdff76d",
   "metadata": {},
   "outputs": [
    {
     "name": "stdout",
     "output_type": "stream",
     "text": [
      "<class 'int'>\n",
      "int\n",
      "True\n"
     ]
    }
   ],
   "source": [
    "print(type(1))\n",
    "print(type(1).__name__)\n",
    "print(type(2.5) is float)"
   ]
  },
  {
   "cell_type": "markdown",
   "id": "d78e5da2-f88d-4d1e-bc0e-350ff5f2c764",
   "metadata": {},
   "source": [
    "# String representations\n",
    "Both `str()` and `repr()` return string representations of an object; `repr()` is lower-level"
   ]
  },
  {
   "cell_type": "code",
   "execution_count": 16,
   "id": "92825f18-9c52-422a-8ac6-290e94fd3ab6",
   "metadata": {},
   "outputs": [
    {
     "name": "stdout",
     "output_type": "stream",
     "text": [
      "howdy\n",
      "'howdy'\n"
     ]
    }
   ],
   "source": [
    "print('howdy')\n",
    "print(repr('howdy')) # prints with quote marks"
   ]
  },
  {
   "cell_type": "markdown",
   "id": "e86936bb-ae59-4de8-b5ca-7bf87356b613",
   "metadata": {},
   "source": [
    "# Collection and string lengths\n",
    "`len()`\n",
    "\n",
    "# Indexing and Key Access\n",
    "- Bracket notation can access member of any sequence, including strings\n",
    "- Numeric index out of range => `IndexError`\n",
    "- `dict` key does not exist => `KeyError`\n",
    "- For mutable collections (list, dict, set) can use `[]` to update elements\n",
    "\n",
    "# Expressions and Statements\n",
    "- An expression combines values, variables, operators, function calls to produce a new object\n",
    "- A statement is a Python instruction that does not produce/return a value\n",
    "\n",
    "Note that in the Python REPL, a statement like `x = 5` does not return a value\n",
    "\n",
    "In some cases, a stand-alone expression can be considered both an expression and a statement\n",
    "- eg, a function call that does not return a value or returns `None`\n",
    "\n",
    "## Operator precedence\n",
    "Always use parentheses to indicate your intent. Do not rely on Python's precedence rules in expressions."
   ]
  },
  {
   "cell_type": "markdown",
   "id": "c8f68285-57c0-4f0d-bfd9-3f3f4e2e83fa",
   "metadata": {},
   "source": [
    "# Variables\n",
    "A label attached to a specific value in memory. \n",
    "## Most identifiers\n",
    "- snake_case\n",
    "- (a-z0-9_) (note lowercase only)\n",
    "- begin with letter\n",
    "- those beginning or ending with `_` or `__` are special\n",
    "## Constants\n",
    "- SCREAMING_SNAKE_CASE\n",
    "- (A-Z0-9_)\n",
    "- Python does not enforce constants; the naming is a convention only\n",
    "## Classes\n",
    "- PascalCase\n",
    "- (A-Za-z0-9) no `_`\n",
    "\n",
    "## valid versus idiomatic\n",
    "- camelCase is valid, not idiomatic\n",
    "- extended ASCII chars are valid, not idiomatic\n",
    "- using Python reserved words is invalid\n",
    "\n",
    "## Variable as pointer\n",
    "The variable points to an address in memory that contains the value. \n",
    "- Reassignment of variable changes the address it points to\n",
    "- Mutation of value (where possible) does not change the address"
   ]
  },
  {
   "cell_type": "markdown",
   "id": "d0304a33-74a5-4632-afab-d3673feff7d0",
   "metadata": {},
   "source": [
    "# Input/Output\n",
    "## `print()`\n",
    "- can list multiple items, will be separated by space\n",
    "- can define a different separator: `print(1, 2, 3, sep=\", \")\n",
    "- by default ends with newline, but can change: `print(1, 2, end=\";\")\n",
    "- `print()` to just print an empty line"
   ]
  },
  {
   "cell_type": "code",
   "execution_count": 17,
   "id": "8d05b1a5-97ca-4fa8-a7c3-d6262d09aafd",
   "metadata": {},
   "outputs": [
    {
     "name": "stdout",
     "output_type": "stream",
     "text": [
      "1\n",
      "2\n",
      "3\n",
      "\n",
      "1 2 3;"
     ]
    }
   ],
   "source": [
    "print(1, 2, 3, sep=\"\\n\")\n",
    "print()\n",
    "print(1, 2, 3, end=\";\")"
   ]
  },
  {
   "cell_type": "markdown",
   "id": "bf8c0e4b-97e0-4ac4-8fef-e4611251225c",
   "metadata": {},
   "source": [
    "## `input()`\n",
    "`name = input()` => awaits terminal input\n",
    "`name = input(prompt)` => can include prompt instead of printing it separately\n",
    "\n",
    "The value returned from `input()` is always a string; numbers must be explicity coerced"
   ]
  },
  {
   "cell_type": "code",
   "execution_count": 18,
   "id": "0b5bf5ee-2a81-4378-a4e2-4c1b4ecc579b",
   "metadata": {},
   "outputs": [],
   "source": [
    "# name = input('what is your name?')\n",
    "# print(name)"
   ]
  },
  {
   "cell_type": "markdown",
   "id": "df520533-3fdc-401b-b0dd-83ecefa56a6d",
   "metadata": {},
   "source": [
    "# Functions and Methods\n",
    "- Methods are functions attached to specific objects\n",
    "\n",
    "## Function syntax\n",
    "```python\n",
    "def hello():\n",
    "    print('hello')\n",
    "    return True\n",
    "```\n",
    "\n",
    "Can add a *docstring* at the beginning of the function block, which can be accessed by Python's `help()` and the `__doc__` property. Indicated with triple quotes\n",
    "\n",
    "```python\n",
    "def say_hi():\n",
    "    \"\"\"\n",
    "    This function says hi.\n",
    "    \"\"\"\n",
    "    print('hi')\n",
    "```"
   ]
  },
  {
   "cell_type": "code",
   "execution_count": 19,
   "id": "ca725a86-d846-4ce6-9bfc-5b52d68672f8",
   "metadata": {},
   "outputs": [
    {
     "name": "stdout",
     "output_type": "stream",
     "text": [
      "hello\n",
      "hello\n",
      "True\n"
     ]
    }
   ],
   "source": [
    "def hello():\n",
    "    print('hello')\n",
    "    return True\n",
    "\n",
    "hello()\n",
    "print(hello())"
   ]
  },
  {
   "cell_type": "markdown",
   "id": "9c54b78a-6873-4eea-82b1-7916cbc05332",
   "metadata": {},
   "source": [
    "## Some built-in functions\n",
    "\n",
    "### `min()`\n",
    "- all values must be of same type\n",
    "- all values must recognize `<` and `>` operators\n",
    "- can call on single iterable (list, set, etc)"
   ]
  },
  {
   "cell_type": "code",
   "execution_count": 20,
   "id": "4c2d2ec2-2bef-448a-b586-800b2cb282ed",
   "metadata": {},
   "outputs": [
    {
     "name": "stdout",
     "output_type": "stream",
     "text": [
      "1\n",
      "1\n",
      "d\n"
     ]
    }
   ],
   "source": [
    "print(min(1, 5, 10))\n",
    "print(min([1, 5, 10]))\n",
    "print(min('howdy')) # => 'd'"
   ]
  },
  {
   "cell_type": "markdown",
   "id": "44b581ea-4183-4cd7-a61d-f2f31c3dd579",
   "metadata": {},
   "source": [
    "### `ord()` and `chr()`\n",
    "- `ord(char)` returns ascii value for given char\n",
    "- `chr(int)` returns char for given ascii value\n",
    "\n",
    "### `any()` and `all()`\n",
    "- called on iterable collection\n",
    "- `any()` returns `True` if any element in collection is truthy\n",
    "- `all()` returns `True` if all elements are truthy\n",
    "\n",
    "### REPL functions\n",
    "#### `id()`\n",
    "returns integer that serves as object's identity. \n",
    "- each value or object has its own id\n",
    "\n",
    "Interning: certain objects share the same identity\n",
    "- integers -5 through 256\n",
    "- in some cases, strings up to a certain length will be interned (depends on Python flavor) - this is the case in my Python REPL\n",
    "- otherwise, identical strings assigned to different variables will have different id values"
   ]
  },
  {
   "cell_type": "code",
   "execution_count": 21,
   "id": "ad66e5ae-6fb4-4ee9-a4df-d247dccfbd30",
   "metadata": {},
   "outputs": [
    {
     "name": "stdout",
     "output_type": "stream",
     "text": [
      "True\n",
      "True\n",
      "False\n"
     ]
    }
   ],
   "source": [
    "print(id('howdy') == id('howdy')) # True\n",
    "print(id(250) == id(250)) # True\n",
    "print(id(25) == id(250))"
   ]
  },
  {
   "cell_type": "markdown",
   "id": "b757388e-f2c1-438e-b0af-a2ce6f6737c6",
   "metadata": {},
   "source": [
    "### `dir()`\n",
    "- `dir()` without args: list of all identifiers in current scope\n",
    "- `dir(obj)`: list of all object's attributes--methods and instance variables\n",
    "\n",
    "### `help()`\n",
    "- `help()` no args: opens help utility (a separate REPL)\n",
    "- `help(class_name)`: info on that class, including its methods\n",
    "- `help('topics')`: list of avail help topics\n",
    "\n",
    "# Scope\n",
    "Identifiers have **function scope**. A variable initialized within a function cannot be accessed outside it. attempt => `NameError`\n",
    "\n",
    "Lexically scoped: If variable not found in current scope, will search outer scopes for nearest definition.\n",
    "\n",
    "If you initialize a variable in inner scope that exists in outer scope, you are shadowing the variable.\n",
    "\n",
    "Unlike other languages like JS, if you initialize a variable in a branch of code that does not execute (like an `else` clause), that variable is *technically* in scope, but it is unassigned. Attempting to access it => `UnboundLocalError`. \n",
    "\n",
    "# Arguments and Parameters\n",
    "- Function names and parameters are considered variable names\n",
    "- Function parameters declare variables local to the function\n",
    "\n",
    "Python has *strict arity* for function parameters. \n",
    "\n",
    "## Default parameters\n",
    "`def hello(text='default text'):`\n",
    "- Cannot have a non-default arg after a default arg => `SyntaxError`\n",
    "\n",
    "# Return values\n",
    "All Python functions evaluate to a value, which is its return value.\n",
    "- Implicit: `None`\n",
    "\n",
    "Functions that return a `bool` are *predicates*.\n",
    "\n",
    "# Functions vs Methods\n",
    "Methods are defined on specific objects, usually syntax `object.method()`\n",
    "\n",
    "A function call can appear to be a method call because the syntax appears the same, as when calling a function on a module you import: `module.function()` - `module` is not an object; it is just the module where the function is located.\n",
    "\n",
    "# Mutating the caller\n",
    "In general, you shouldn't mutate arguments you send to functions.\n",
    "\n",
    "Methods of immutable objects can't mutate the caller.\n",
    "Otherwise, you have to inspect the code or documentation to know if a particular method mutates the caller. "
   ]
  },
  {
   "cell_type": "markdown",
   "id": "edf8463b-4ec7-40b2-b903-2bab88e7ba72",
   "metadata": {},
   "source": [
    "# Flow Control\n",
    "## Conditionals\n",
    "- 'conditional' refers to the entire construct\n",
    "- keep in mind that indentation defines the blocks\n",
    "- blocks cannot be empty; we can use `pass`, which explicitly indicates there is no code in that block (but we should include a comment as to why)\n",
    "\n",
    "syntax\n",
    "```python\n",
    "if condition:\n",
    "    ...\n",
    "elif condition:\n",
    "    ...\n",
    "else:\n",
    "    ...\n",
    "```\n",
    "\n",
    "## Comparisons\n",
    "== != < <= > >=\n",
    "- recall string comparison is lexicographic\n",
    "\n",
    "## Logical operators\n",
    "`not` `and` `or`\n",
    "- `and` and `or` will short-circuit\n",
    "- return value will be last object evaluated in the expression\n",
    "- use parentheses with expressions so as not to worry about precedence\n",
    "\n",
    "### Logical operator precedence\n",
    "- Comparison operators\n",
    "- `not`\n",
    "- `and`\n",
    "- `or`\n",
    "\n",
    "# Truthiness\n",
    "Falsy:\n",
    "- `False`\n",
    "- `None`\n",
    "- `0`\n",
    "- `''` empty string\n",
    "- `[]` `()` `{}` `set()` `frozenset()` `range(0)` - empty collections\n",
    "- Custom data types can define falsy values\n",
    "\n",
    "Everything else is truthy.\n",
    "\n",
    "# Match/case statements\n",
    "- indentation is important\n",
    "- `|` for multiple cases in one block\n",
    "- no fallthrough (no `break` statement required)\n",
    "\n",
    "```python\n",
    "match value:\n",
    "    case 1:\n",
    "        ...\n",
    "    case 2 | 3 | 4:\n",
    "        ...\n",
    "    case _:\n",
    "        ... # default action\n",
    "```\n",
    "# Ternary expressions\n",
    "- should be simple and fit on one line\n",
    "- `value if condition else value2` note the syntax is different than `? :`\n",
    "`x = 5 if y == 7 else 10`"
   ]
  },
  {
   "cell_type": "code",
   "execution_count": 22,
   "id": "070261ea-0a06-483d-8941-660f69c94d62",
   "metadata": {},
   "outputs": [
    {
     "name": "stdout",
     "output_type": "stream",
     "text": [
      "10\n"
     ]
    }
   ],
   "source": [
    "y = 8\n",
    "x = 5 if y == 7 else 10\n",
    "print(x)"
   ]
  },
  {
   "cell_type": "markdown",
   "id": "c441c965-d29f-4c86-b9ad-36244840bc41",
   "metadata": {},
   "source": [
    "# Collections\n",
    "\n",
    "Sequences: `range` `tuple` `list`\n",
    "Maps: `dict`\n",
    "Sets: `set` `frozenset`\n",
    "\n",
    "A `str` is a text sequence **but** it is not a collection. They are similar enough that we can treat them as collections, though. \n",
    "\n",
    "## Sequences\n",
    "**Ordered** collection of objects (elements or values) that can be indexed by whole numbers.\n",
    "- `list` and `tuple` are heterogeneous\n",
    "- `range` is homogeneous => *always* integers\n",
    "- `list` is the only mutable sequence\n",
    "\n",
    "Strings are a text sequence:\n",
    "- homogeneous (only chars)\n",
    "- chars are not distinct objects, just strings of length 1\n",
    "- not collections since chars are not objects\n",
    "- we can usually treat them as sequences\n",
    "\n",
    "## Sets\n",
    "**Unordered** collection of unique objects (elements or members). Cannot be indexed\n",
    "- heterogeneous\n",
    "- they can *seem* ordered at times but are not\n",
    "- `set` is mutable, `frozenset` is immutable\n",
    "\n",
    "## Maps\n",
    "**Unordered** collection of key/value pairs(elements or members). \n",
    "- mutable\n",
    "- keys must be unique and immutable (hashable: all built-in immutable types are fine)\n",
    "- value can be any object\n",
    "- since v3.7, Python maintains insertion order (but it is still considered unordered)\n",
    "\n",
    "## Collection constructors\n",
    "### `str`\n",
    "- `str()` => `''` empty string\n",
    "- `str('a string')`\n",
    "- `str(None)` => `'None'`\n",
    "\n",
    "### `range`\n",
    "- *lazy* sequence--no elements are created until the program needs them\n",
    "- we often convert them to `list` or `tuple` if we need all the elements\n",
    "`stop` value is always excluded\n",
    "- `range(start, stop, step)`\n",
    "- `range(start, stop)` => default step is 1\n",
    "- `range(stop)` => default start is 0\n",
    "\n",
    "### `list` `tuple` `set` `frozenset`\n",
    "- common constructor forms\n",
    "- `list()` => empty list\n",
    "- `list(iterable)` => converts iterable to list\n",
    "- can use to duplicate a collection `list_copy = list(original_list)` => they will be different objects\n",
    "- passing a `str` as argument will create a collection of 1-char strings\n",
    "\n",
    "# Using Collections\n",
    "## Indexing\n",
    "All sequences support indexing.\n",
    "Negative indexes are fine.\n",
    "We can change value of element in a mutable sequence with indexing. \n",
    "`IndexError` if we try to access an element that doesn't exist\n",
    "\n",
    "## Slicing\n",
    "We can slice a sequence--retrieve or modify any number of consecutive elements.\n",
    "- Returns a *shallow* copy\n",
    "\n",
    "- `my_sequence[start:stop]` again, value of stop is excluded\n",
    "- `my_sequence[start:stop:step]`\n",
    "- `my_sequence[::-1]` returns a reversed version of the sequence\n",
    "    - `my_sequence.reverse()` does this, but it mutates\n",
    " \n",
    "## Key-based access\n",
    "Maps (`dict`) use keys to access elements. \n",
    "- Keys are usually strings but can be any hashable object (including all built-in immutables)\n",
    "- we can use integer keys , but it will look like sequence indexing\n",
    "- `KeyError` if we try to access a non-existent key\n",
    "      - We can use `dict.get()` instead, which returns `None` if the key does not exist\n",
    "      - `dict.get(key, default)` => returns default value if key not found\n",
    "\n",
    "## Common collection operations\n",
    "### Non-mutating operations\n",
    "- These work for all mutable and immutable collections; they do not modify the collection, only return new objects.\n",
    "#### Collection membership\n",
    "- `in` predicate function, `True` if object is in the collection\n",
    "- `not in` `True` if object is not in the collection\n",
    "- compares for equality (== or !=)\n",
    "#### Minimum and maximum\n",
    "- `min(collection)`\n",
    "- `max(collection)`\n",
    "- collection must be homogeneous (usually--mixing `int` and `float` ok)\n",
    "- both can be called with multiple args instead of a collection: `max(1, 2, 3)`\n",
    "#### Summation\n",
    "- `sum(collection)`\n",
    "- only for collections with all elements being numeric types\n",
    "- cannot be called with multiple args, only a single collection\n",
    "#### Locating indices and counting\n",
    "`my_collection.index(object)`\n",
    "- returns index of first matching object\n",
    "- raises `ValueError` if object is not found\n",
    "- also works with strings\n",
    "\n",
    "`my_collection.count(value)`\n",
    "- number of occurrences of value in collection\n",
    "- returns `0` if there are none\n",
    "\n",
    "#### Merging collections\n",
    "`zip(collection1, collection2, collection3, ...)`\n",
    "- returns an *iterator* representing a list of tuples\n",
    "    - an iterator can be consumed only once\n",
    "- collections can be of different length, but resulting tuples will all be the size of the smallest collection\n",
    "- adding arg `strict=True` at the end will enforce identical lengths (will throw `ValueError` if they are of different lengths)\n",
    "\n",
    "#### `dict` operations\n",
    "- `my_dict.keys()` \n",
    "- `my_dict.values()` \n",
    "- `my_dict.items()` => 2-element tuples\n",
    "\n",
    "The return value for these is not a regular list; it is a **dictionary view object** tied to the dictionary. This means that all references to this return value will automatically update when the dict or any value therein is mutated (like a *live* collection).\n",
    "\n",
    "### Operations for mutable sequences\n",
    "All these operations mutate the collection. We are just taking about `list` here, but there are other mutable sequence types (deque, array) in Python.\n",
    "#### Adding elements\n",
    "`my_list.append(obj)`: appends a single object to the sequence\n",
    "`my_list.insert(obj, index)`: inserts a single object before the given index\n",
    "`my_list.extend(sequence)`: appends contents of sequence to my_list (sequence here can be list/range/tuple)\n",
    "#### Removing elements\n",
    "`my_list.remove(obj)`: searches for obj and removes **first occurence** of it\n",
    "- raises `ValueError` if obj not in list\n",
    "\n",
    "`my_list.pop(index)`: removes *and returns* element at index\n",
    "- if no index given, removes last element of list\n",
    "\n",
    "`my_list.clear()`: removes all elements from sequence\n",
    "\n",
    "## Sorting collections\n",
    "`sorted(collection)` returns sorted list from any iterable collection; does not mutate collection\n",
    "- `sorted(reverse=True)` to reverse sort\n",
    "\n",
    "`sort(list)` mutates the list - sorts in place (a bit faster than `sorted()`\n",
    "- `sort()` returns `None`\n",
    "- `sort(reverse=True)` to reverse sort\n",
    "- can pass `key=func` as an argument to determine how to sort values\n",
    "  - case-insensitive: `sort(list, key=str.lower))` => applies `str.lower()` method before sorting\n",
    "  - sort numeric strings as numbers: `sort(list, key=int)` => applies `int()` to each before sorting\n",
    "\n",
    "### `dict` sorting\n",
    "`sorted(my_dict)` returns sorted list of dictionary keys\n",
    "\n",
    "## Reversing sequences and dictionaries\n",
    "`reversed(sequence)`: returns a lazy sequence, which you can iterate over or convert to `list` or `tuple`\n",
    "\n",
    "`reverse(list)`: mutates\n",
    "\n",
    "`reversed(dictionary)`: returns lazy sequence of **keys** in reversed order (recall that `dict` order is order of insertion)\n",
    "\n",
    "\n",
    "\n"
   ]
  },
  {
   "cell_type": "code",
   "execution_count": 23,
   "id": "94bcf79b-1e21-4935-a46c-07d4711896d0",
   "metadata": {},
   "outputs": [
    {
     "name": "stdout",
     "output_type": "stream",
     "text": [
      "True\n"
     ]
    }
   ],
   "source": [
    "my_list = [1, 2, 3]\n",
    "print(1 in my_list) # True"
   ]
  },
  {
   "cell_type": "markdown",
   "id": "b618f028-8507-4ef7-a575-818a49425f58",
   "metadata": {},
   "source": [
    "# String operations\n",
    "Strings are immutable, so the methods listed here all return new strings or are predicates. Note that these are Unicode-aware, so there could be some unexpected results with non-English chars. \n",
    "\n",
    "When printing to console, using `repr()` will add quotes to strings, which makes it easier to see whitespace chars.\n",
    "\n",
    "- `str.lower()`\n",
    "- `str.upper()`\n",
    "- `str.capitalized()`: first letter capitalized\n",
    "- `str.swapcase()`\n",
    "- `str.strip()`: removes all leading and trailing whitespace\n",
    "    - `str.strip(string)` removes all leading/trailing chars that appear in `string`\n",
    "- `str.lstrip()`\n",
    "- `str.rstrip()`\n",
    "- `str.split(delim)`: By default, splits on whitespace\n",
    "    - `delim` can be a combination of chars\n",
    "    - you can't split string into chars this way--use `list()` or `tuple()`\n",
    "    - plus you can iterate over chars of a string: `for char in text:`\n",
    "- `str.splitlines()`: splits on any newline chars (`\\n`, `\\r`, `\\n\\r`)\n",
    "\n",
    "## Join\n",
    "Join works differently than in other languages. You call `join()` on the separator string and pass it the iterable collection: \n",
    "`', '.join(word_list)`. The string can be and empty string to join with no spaces."
   ]
  },
  {
   "cell_type": "code",
   "execution_count": 24,
   "id": "1fff51b0-bdc5-433a-b1c5-7837b4ea3c7c",
   "metadata": {},
   "outputs": [
    {
     "data": {
      "text/plain": [
       "'howdy, there'"
      ]
     },
     "execution_count": 24,
     "metadata": {},
     "output_type": "execute_result"
    }
   ],
   "source": [
    "my_list = ['howdy', 'there']\n",
    "', '.join(my_list)"
   ]
  },
  {
   "cell_type": "markdown",
   "id": "b9d9548d-69d4-4815-ba67-0f562150fb1b",
   "metadata": {},
   "source": [
    " \n",
    "## Predicates:\n",
    "\n",
    "- `str.isalpha()`: True if all chars are alphabetic (space is not alpha)\n",
    "- `str.isdigit()`: True if all chars digits (space is not digit, nor is negative sign or decimal)\n",
    "- `str.isalnum()`\n",
    "- `str.islower()`: True if all alphas are lcase\n",
    "- `str.isupper()`\n",
    "- `str.isspace()` True if all chars are whitespace chars\n",
    "- `str.isascii()` True if all are ascii chars\n",
    "\n",
    "## Substrings\n",
    "Substring searches are case sensitive!\n",
    "\n",
    "We can use `in` and `not in` to test a string for the presence of a char or substring. "
   ]
  },
  {
   "cell_type": "code",
   "execution_count": 25,
   "id": "732b1ac7-39dd-4e5b-9e60-2f7a52023198",
   "metadata": {},
   "outputs": [
    {
     "name": "stdout",
     "output_type": "stream",
     "text": [
      "True\n"
     ]
    }
   ],
   "source": [
    "print('in' in 'string')"
   ]
  },
  {
   "cell_type": "markdown",
   "id": "a321891c-06b1-4f0d-a935-d68645cba059",
   "metadata": {},
   "source": [
    "- `str.find(substr)`: Returns index of first matching substring, or -1\n",
    "- `str.rfind(substr)`: Starts search from right end of string\n",
    "\n",
    "Searching slices:\n",
    "- `str.find(substr, index)` start search at index\n",
    "    - `str.find(substr, index1, index2)` search up to (not including) index2\n",
    "\n",
    "# Nested collections\n",
    "There are some limitations on nesting collections:\n",
    "- You can't nest mutable collection inside a set\n",
    "- You can nest a frozenset inside set or frozenset\n",
    "- You can nest mutable collection inside a tuple\n",
    "- All nested elements can be accessed with `[index]` syntax\n",
    "\n",
    "# Comparing collections\n",
    "Python allows comparisons for iterable collections.\n",
    "\n",
    "Collections are equal if:\n",
    "- they are of the same type (`frozenset` and `set` are considered the same for comparison)\n",
    "- they have the same number of elements\n",
    "- sequences (which are ordered) are compared element by element\n",
    "- sets (which are unordered) need to have same members (order doesn't matter)\n",
    "- maps: each key/value pair must be present and identical"
   ]
  },
  {
   "cell_type": "markdown",
   "id": "1ab2a0ff-941f-4710-b82f-cccd91c1a56b",
   "metadata": {},
   "source": [
    "# Loops and iteration\n",
    "## while"
   ]
  },
  {
   "cell_type": "code",
   "execution_count": 26,
   "id": "b9dfff61-2425-4964-add8-baae745de0be",
   "metadata": {},
   "outputs": [
    {
     "name": "stdout",
     "output_type": "stream",
     "text": [
      "1\n",
      "2\n",
      "3\n"
     ]
    }
   ],
   "source": [
    "counter = 1\n",
    "\n",
    "while counter <= 3:\n",
    "    print(counter)\n",
    "    counter += 1"
   ]
  },
  {
   "cell_type": "markdown",
   "id": "23d44e49-777c-4e45-b126-5f4e8a173bff",
   "metadata": {},
   "source": [
    "## for\n",
    "`for element in collection:`\n",
    "- if collection is `dict`, will iterate over keys by default\n",
    "    - but: `for value in my_dict.values():`\n",
    "    - also, with unpacking: `for (key, value) in my_dict.items():`"
   ]
  },
  {
   "cell_type": "code",
   "execution_count": 27,
   "id": "ffb20740-2efe-4b37-a45d-00e0f1fa1b88",
   "metadata": {},
   "outputs": [
    {
     "name": "stdout",
     "output_type": "stream",
     "text": [
      "1\n",
      "2\n",
      "3\n",
      "a = 1\n",
      "b = 2\n"
     ]
    }
   ],
   "source": [
    "my_list = [1, 2, 3]\n",
    "\n",
    "for num in my_list:\n",
    "    print(num)\n",
    "\n",
    "my_dict = {'a': 1, 'b': 2}\n",
    "\n",
    "for key, value in my_dict.items():\n",
    "    print(f'{key} = {value}')"
   ]
  },
  {
   "cell_type": "markdown",
   "id": "bbc34ea7-ce23-4af6-85f0-20a1b3191b1f",
   "metadata": {},
   "source": [
    "### Nested loops"
   ]
  },
  {
   "cell_type": "code",
   "execution_count": 28,
   "id": "352296ab-009f-475f-84b0-9e7ccdaa6dd5",
   "metadata": {},
   "outputs": [
    {
     "name": "stdout",
     "output_type": "stream",
     "text": [
      "1 => a\n",
      "1 => b\n",
      "2 => a\n",
      "2 => b\n",
      "3 => a\n",
      "3 => b\n"
     ]
    }
   ],
   "source": [
    "my_nums = [1, 2, 3]\n",
    "my_alphas = ['a', 'b']\n",
    "\n",
    "for num in my_nums:\n",
    "    for alpha in my_alphas:\n",
    "        print(f'{num} => {alpha}')"
   ]
  },
  {
   "cell_type": "markdown",
   "id": "b4082813-52ba-4341-b793-094fca586e63",
   "metadata": {},
   "source": [
    "## Controlling loops\n",
    "- `continue` => goes to next iteration of current loop\n",
    "    - can't start new iteration of outer loop from inner loop\n",
    " \n",
    "- `break` => terminates the loop\n",
    "    - can't break outer loop from inner loop\n",
    " \n",
    "## simulating `do/while`\n",
    "Set a flag before the loop and reset within the loop when necessary, or\n",
    "`while True:` then use break in loop when a condition is met\n",
    "\n",
    "## simultaneous iteration\n",
    "It can be cumbersome to keep track of an index to access corresponding elements in multiple collections. Instead, `zip()` the collections first and then iterate over the resultant tuples--keeping in mind that the zip result is the size of the shortest collection. \n"
   ]
  },
  {
   "cell_type": "code",
   "execution_count": 29,
   "id": "c9b88c3f-81a1-4235-9897-db2de05220bc",
   "metadata": {},
   "outputs": [
    {
     "name": "stdout",
     "output_type": "stream",
     "text": [
      "Ken Camp\n",
      "Lynn Blake\n",
      "Pat Flanagan\n",
      "Nancy Short\n"
     ]
    }
   ],
   "source": [
    "forenames = ['Ken', 'Lynn', 'Pat', 'Nancy']\n",
    "surnames = ['Camp', 'Blake', 'Flanagan', 'Short']\n",
    "\n",
    "zipped_names = zip(forenames, surnames)\n",
    "for forename, surname in zipped_names:\n",
    "    print(f'{forename} {surname}')"
   ]
  },
  {
   "cell_type": "markdown",
   "id": "d2a555e6-be54-4c1e-99b0-c582fefc439a",
   "metadata": {},
   "source": [
    "# Comprehensions\n",
    "Comprehensions are a concise way to create mutable collections from existing iterable collections. Recall the three mutable collection types are `list`, `dict`, and `set`. With comprehensions, we are replacing loops (which are statements) with expressions. Each comprehension returns a mutable collection. \n",
    "\n",
    "Comprehensions can perform **transformation** and/or **selection**. It is like JS array filter/map/reduce. \n",
    "\n",
    "## List comprehensions\n",
    "These are most common--you take an iterable collection and create a new list. Format:\n",
    "- `[ expression for element in collection if condition ]`\n",
    "- `expression` is the value returned for each element; it can be simply `element` or a new value calculated from `element` (an arith operation or calling a method on the element)\n",
    "- `element` is the name you are giving to the individual element of the collection so that you can refer to the element in the `expression` and `condition`\n",
    "- `collection` is the name of the collection you are iterating\n",
    "- `condition` is the optional filter - it is an expression that must return True or False\n",
    "\n",
    "There can be multiple for loop components to iterate over more than one collection. This resembles nested loops.\n",
    "\n",
    "There can be multiple conditions also (multiple `if` statements, which are combined as with using `and`). This resembles nested if statements."
   ]
  },
  {
   "cell_type": "code",
   "execution_count": 30,
   "id": "44f368b6-05ae-45d3-9a42-a01aed3dae3e",
   "metadata": {},
   "outputs": [
    {
     "name": "stdout",
     "output_type": "stream",
     "text": [
      "['Troy Graves', 'Troy Davenport', 'Troy Carswell', 'Delta Graves', 'Delta Davenport', 'Delta Carswell', 'Robert Graves', 'Robert Davenport', 'Robert Carswell']\n"
     ]
    }
   ],
   "source": [
    "my_first_names = ['Troy', 'Delta', 'Robert']\n",
    "my_last_names = ['Graves', 'Davenport', 'Carswell']\n",
    "\n",
    "names = [ f'{first} {last}' \n",
    "          for first in my_first_names\n",
    "          for last in my_last_names ]\n",
    "\n",
    "print(names)\n",
    "\n",
    "# note all combinations of names are generated, like nested loops"
   ]
  },
  {
   "cell_type": "code",
   "execution_count": 31,
   "id": "63bd1060-c398-4e3e-8d42-ab642d5bea2d",
   "metadata": {},
   "outputs": [
    {
     "name": "stdout",
     "output_type": "stream",
     "text": [
      "['Jack of Hearts', 'Queen of Hearts', 'King of Hearts', 'Ace of Hearts']\n"
     ]
    }
   ],
   "source": [
    "suits = ['Clubs', 'Diamonds', 'Hearts', 'Spades']\n",
    "ranks = [\n",
    "    '2', '3', '4', '5', '6', '7', '8', '9', '10',\n",
    "    'Jack', 'Queen', 'King', 'Ace',\n",
    "]\n",
    "\n",
    "high_hearts_deck = [ f'{rank} of {suit}'\n",
    "                     for rank in ranks\n",
    "                     for suit in suits\n",
    "                     if suit == 'Hearts'\n",
    "                     if rank in ['Jack', 'Queen', 'King', 'Ace'] ]\n",
    "\n",
    "print(high_hearts_deck)"
   ]
  },
  {
   "cell_type": "markdown",
   "id": "03ae7f0f-49b7-42d2-883e-8a8823a1bffe",
   "metadata": {},
   "source": [
    "## Dictionary comprehensions\n",
    "Returns a dictionary.\n",
    "- ` { key: value for element in iterable if condition }`\n",
    "- 'expression` is now two expressions--one for key and one for value\n",
    "- note `:` placement separating the expressions\n",
    "- otherwise identical to list comprehensions\n",
    "\n",
    "## Set comprehensions\n",
    "Returns a set.\n",
    "- `{ expression for element in iterable if condition }`\n",
    "- note we use brackets like dictionary comprehension\n",
    "- BUT there is only one expression before `for`, unlike dictionary comprehensions, which have two\n",
    "- otherwise identical to list comprehensions\n",
    "\n",
    "## Why can't we have comprehensions for immutable collections?\n",
    "The return value of a comprehension (a list or dict or set) is built gradually, appending new items with each iteration of the original collection(s). We can't similarly append to immutable collections. The solution is to use a list comprehension and then convert the list to the immutable collection type.\n",
    "\n",
    "## Curious: index access and comparison to map/filter\n",
    "We can access an index within a comprehension, using `enumerate`\n",
    "`[expression for index, element in enumerate(iterable) if condition]`\n",
    "\n",
    "Comprehensions are more Pythonic than using functional methods like `map` or `filter` or `reduce`. Comprehensions do fall under the category of *functional programming*. However, in some cases the comprehensions is less efficient (eg, maps can be faster if the function be applied is pre-defined instead of inline). "
   ]
  },
  {
   "cell_type": "markdown",
   "id": "ccac34dd-6034-480e-9912-d25e5bbc0738",
   "metadata": {},
   "source": [
    "# Variables as pointers\n",
    "All variables are pointers to objects. If you assign the same object to multiple variables, all of those variables point to the same object. \n",
    "\n",
    "When a variable is reassigned, Python creates the new object and then changes the variable's stack item to point to the new object. The original object is not altered.\n",
    "\n",
    "When a variable points to a mutable object, mutating the object does not change the variable reference, just the object itself. The new state of the object will be reflected for every variable that references that object.\n",
    "\n",
    "Note that indexed assignment looks like reassignment but is actually mutation.\n",
    "\n",
    "Strictly, a variable is a pointer to a stack location, and the stack location is a pointer to the object (which itself might be in the heap).\n",
    "\n",
    "# Equality vs Identity\n",
    "equal: `val1 == val2`\n",
    "identical: `val1 is val2` (same object)\n",
    "\n",
    "# Shallow vs deep copy\n",
    "Objects nested within other objects are contained as references to the object. \n",
    "\n",
    "With a shallow copy `dup = copy.copy(original)`, any objects nested in `original` will be copied by reference--so any mutation of that object will be reflected in all copies of `original`.\n",
    "\n",
    "With a deep copy `dup = copy.deepcopy(original)`, the `original` object will be copied *as well as* every nested object, no matter how deeply nested. With a deep copy, there is nothing you can do to the original that will be reflected in the copy, and vice versa.\n",
    "\n",
    "`deepcopy` does not copy immutable objects! They can't be mutated anyway, so the shared reference can have no side effects reflected between one copy and another. \n",
    "\n",
    "Shallow copies are faster, but deep copies are best when dealing with collections of mutable elements.\n",
    "\n",
    "# Function composition\n",
    "A function call can be passed as an argument to another function. This works best if the inner functions return a value other than `None`.\n",
    "\n",
    "# Method chaining\n",
    "As long as each method in the chain returns an object that can call the next method, this is fine. \n",
    "\n",
    "We can split method chains over multiple lines, but the entire chain must be in parentheses. \n",
    "\n",
    "# Modules\n",
    "At pypi.org you can find many modules to download, and you can create your own. Every python file is a a module. \n",
    "\n",
    "The Python package manager (like npm in JS) is `pip`. To install a package:\n",
    "- `python3 -m pip <packagename>`\n",
    "\n",
    "To use the module, in python file:\n",
    "- `import <modulename>`\n",
    "\n",
    "If you want only certain parts of the module, and also if you don't want to have to prefix everything with the module name, you can import just what you want:\n",
    "- `from <modulename> import variable_1, function_1, ...`\n",
    "\n",
    "Now you can use `variable_1` and `function_1` as if they are built in; however, prefixing with the module name can help prevent naming conflicts. \n",
    "\n",
    "You can also give the module an alias, particularly if the module name is long and you don't want to keep typing it:\n",
    "- `import <package_with_long_name> as p`\n",
    "\n",
    "## Some useful modules\n",
    "### math\n",
    "Python is distributed with the math module (but there are many advanced math modules out there); but you still need to import it.\n",
    "\n",
    "- `import math` => `math.sqrt(4)`\n",
    "- `from math import pi, sqrt` => `sqrt(4)`\n",
    "\n",
    "### datetime\n",
    "Here, we are importing a class from a module and giving it an alias:\n",
    "- `from datetime import datetime as dt`\n",
    "\n",
    "It is a bit confusing as the module and class have the same name.\n",
    "\n",
    "# Function definition order\n",
    "Python reads in `def` statements as function definitions into memory as they are encountered. The body of the function is not executed until it is invoked. \n",
    "\n",
    "Therefore, it does not matter the order you list your functions. The only rule is that you must define the function before you invoke it in the code. This is why it is good practice to define all functions at the top of the main program (or import them in a module). \n",
    "\n",
    "# Nested functions\n",
    "You can define a function within a function; however, that function is created and destroyed every time the outer function runs (this is not a performance issue). They are private functions, meaning they are only available from inside the function where they are defined. \n",
    "\n",
    "# Scope: `global` and `nonlocal`\n",
    "- Variables in python have function scope.\n",
    "- Python assumes all variables assigned a value inside a function are local variables, even if a variable by that name exists in outer scope. Python will create a new local variable by that name.\n",
    "- If the variable invoked in inner scope is not assigned a value but is used in an expression, it is referencing the outer-scope variable.\n",
    "\n",
    "We can override aspects of this behavior.\n",
    "\n",
    "## `global`\n",
    "Within a function, if we prepend the variable name with `global`, we are indicating that we want to use the variable in outermost scope. If the variable does not already exist in outermost scope, it will create the variable in that scope. \n",
    "\n",
    "This can be a problem in nested functions. The variable might not be defined at the topmost (global) level, but instead within a function(`function_1`), and then you want to access it within a deeper function (`function_1a`). If you use `global` in `function_1a`, you are creating a new variable outside `function_1`. \n",
    "\n",
    "To fix this, we use `nonlocal`.\n",
    "\n",
    "## `nonlocal`\n",
    "Using `nonlocal` indicates that you want to use the variable in the closest outer scope, not the farthest outer scope (the global scope). \n",
    "\n",
    "Generally, it is not good practice to reassign variables outside local scope; it makes the program harder to read and maintain. \n",
    "\n",
    "In some cases, you must use `nonlocal`; however, the `global` statement is rarely required, and its use usually indicates poor program design. \n",
    "\n",
    "\n"
   ]
  },
  {
   "cell_type": "code",
   "execution_count": 32,
   "id": "30af7670-238f-483f-af6f-598b0e923b9e",
   "metadata": {},
   "outputs": [
    {
     "name": "stdout",
     "output_type": "stream",
     "text": [
      "hey\n",
      "howdy\n"
     ]
    }
   ],
   "source": [
    "greeting = 'howdy'\n",
    "\n",
    "def say_howdy():\n",
    "    greeting = 'hey'\n",
    "    print(greeting)\n",
    "\n",
    "say_howdy()\n",
    "print(greeting)"
   ]
  },
  {
   "cell_type": "markdown",
   "id": "a1ce1603-924b-439d-bacc-4f32d0cf2245",
   "metadata": {},
   "source": [
    "# Exercise notes\n",
    "\n",
    "`from datetime import datetime`\n",
    "# from module datetime import class datetime\n",
    "\n",
    "# if we do `import datetime` we must prefix class name with module name\n",
    "\n",
    "If you have a variable you need to include as a placeholder but won't be using that variable, replace it with `_`\n",
    "\n",
    "When iterating over a collection, it is common to use single-plural format:\n",
    "`for friend in friends:`\n",
    "\n",
    "Random numbers\n",
    "```python\n",
    "import random\n",
    "\n",
    "random_num = random.randint(1, 10) ## inclusive\n",
    "\n",
    "my_arr = [1, 2, 3]\n",
    "random.choice(my_arr) # selects element at random\n",
    "random.shuffle(my_arr) # shuffles my_arr in place\n",
    "\n",
    "Ternary:\n",
    "value if condition else value2\n",
    "\n",
    "Match (switch):\n",
    "```python\n",
    "match my_value:\n",
    "    case 1:\n",
    "        print(1)\n",
    "    case 2:\n",
    "        print(2)\n",
    "    case _:\n",
    "        print('not 1 or 2')\n",
    "```\n",
    "\n",
    "Return value of a function if there is no explicit return: `None`\n",
    "\n",
    "Recall `//` is integer division (returns integer)\n",
    "\n",
    "`str.replace(substr, new_substr)` replaces *all* occurrences.\n",
    "\n",
    "Take advantage of pattern matching with `match`:\n",
    "```python\n",
    "def local_greet(locale):\n",
    "    language = extract_language(locale)\n",
    "\n",
    "    match(language):\n",
    "        case 'en':\n",
    "            region = extract_region(locale)\n",
    "            if region == 'US':\n",
    "                return 'Hey!'\n",
    "            elif region == 'GB':\n",
    "                return 'Hello!'\n",
    "            elif region == 'AU':\n",
    "                return 'Howdy!'\n",
    "        case _:\n",
    "            return greet(language)\n",
    "```\n",
    "\n",
    "instead:\n",
    "```python\n",
    "def local_greet(locale):\n",
    "    language = extract_language(locale)\n",
    "    region = extract_region(locale)\n",
    "\n",
    "    match(language, region): # tuple pattern for matching\n",
    "        case ('en', 'US'):\n",
    "            return 'Hey!'\n",
    "        case ('en', 'GB'):\n",
    "            return 'Hello!'\n",
    "        case ('en', 'AU'):\n",
    "            return 'Howdy'\n",
    "        case _:\n",
    "            return greet(language)\n",
    "```\n",
    "\n",
    "For case-insensitive string comparison, convert both strings using `casefold()` instead of `lower()` to account for language peculiarities. \n",
    "\n",
    "\n",
    "`str.title()` will capitalize the letters after apostrophes\n",
    "alternative:\n",
    "```python\n",
    "import string\n",
    "string.capwords(my_string)\n",
    "```\n",
    "\n",
    "`list.remove()` will raise ValueError if the given value is not found in the list\n",
    "\n",
    "to delete a key/value pair from a dict:\n",
    "`del dict[key]`\n",
    "\n"
   ]
  }
 ],
 "metadata": {
  "kernelspec": {
   "display_name": "Python 3 (ipykernel)",
   "language": "python",
   "name": "python3"
  },
  "language_info": {
   "codemirror_mode": {
    "name": "ipython",
    "version": 3
   },
   "file_extension": ".py",
   "mimetype": "text/x-python",
   "name": "python",
   "nbconvert_exporter": "python",
   "pygments_lexer": "ipython3",
   "version": "3.12.2"
  }
 },
 "nbformat": 4,
 "nbformat_minor": 5
}
