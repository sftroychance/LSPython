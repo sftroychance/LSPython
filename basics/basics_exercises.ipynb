{
 "cells": [
  {
   "cell_type": "markdown",
   "id": "72692002-1b75-41c2-916a-5d450c69ef4b",
   "metadata": {},
   "source": [
    "# Documentation 1\n",
    "\n",
    "1. Finding documentation.\n",
    "\n",
    "Documentation is found at docs.python.org and also by using the `help()` command.\n",
    "\n",
    "2. Determine whether Python has a method to lowercase a string, for example converting 'Aloha, World!' into 'aloha, world!.\n",
    "\n",
    "`str.lower()`\n",
    "\n",
    "3. Use the Python documentation for the str class to determine which method can be used to right justify a str object.\n",
    "\n",
    "`str.rjust(width, [fillchar])`\n",
    "\n",
    "4. Is there a method to reverse a string, for example turning 'hello' into 'olleh'?\n",
    "\n",
    "`str[::-1]`\n",
    "\n",
    "5. How can we access the second element ('and') in the list ['fish', 'and', 'chips']?\n",
    "\n",
    "`['fish', 'and', 'chips'][1]`\n",
    "\n",
    "6. fruits = [\"apple\", \"banana\", \"cherry\", \"peach\", \"watermelon\"]\n",
    "\n",
    "How would you determine the index of the fruit \"cherry\" in this list?\n",
    "\n",
    "`fruits.index(\"cherry\")`\n",
    "\n",
    "7. What happens if we take the list ['fish', 'and', 'chips'] and try to access the element at index position 10? First try to determine what will happen by consulting the documentation, then verify your understanding in the Python REPL.\n",
    "\n",
    "IndexError\n",
    "\n",
    "8. Using the Python documentation, determine how you can write large numbers in a way that makes them easier to read.\n",
    "\n",
    "`1_234_567`\n",
    "\n",
    "9. Referring to the official Python documentation, how would you identify the data type of the following values?\n",
    "\n",
    "`type()`\n",
    "\n",
    "# Documentation 2\n",
    "\n",
    "1.\n",
    "```python\n",
    "name = \"Victor\"\n",
    "profession = \"programmer\"\n",
    "```\n",
    "\n",
    "How can you print the string Hello, Victor. You are a programmer. using the str.format method? You should fill in the name and profession in a string literal that contains the rest of the text.\n",
    "\n",
    "`'Hello, {}. You are a {}.'.format(name, profession)`\n",
    "\n",
    "How can you achieve the same result using an f-string?\n",
    "\n",
    "`f'Hello, {name}. You are a {profession}.'`\n",
    "\n",
    "2. In the following code snippet, find all violations of the PEP8 style guide. Rewrite it so that it conforms with the guide.\n",
    "\n",
    "```python\n",
    "iceCreamDensity=10\n",
    "\n",
    "while iceCreamDensity>0 :\n",
    "    print('Drip...')\n",
    "    iceCreamDensity-=1\n",
    "\n",
    "print('The ice cream melted.')\n",
    "```\n",
    "\n",
    "```python\n",
    "ice_cream_density = 10\n",
    "\n",
    "while ice_cream_density > 0:\n",
    "    print('Drip...')\n",
    "    ice_cream_density -= 1\n",
    "\n",
    "print('The ice cream melted.')\n",
    "\n",
    "\n",
    "3. Find the Python Documentation on operator precedence, and use it to determine the result of evaluating 4 * 5 + 3**2 / 10.\n",
    "\n",
    "20.9 => exp -> mul/div -> add/sub\n",
    "\n",
    "4. Using the datetime module in Python, how would you obtain the current date and time?"
   ]
  },
  {
   "cell_type": "code",
   "execution_count": 2,
   "id": "dd895269-55df-4a38-89bc-ec07e4919432",
   "metadata": {},
   "outputs": [
    {
     "name": "stdout",
     "output_type": "stream",
     "text": [
      "2024-04-02 10:55:22.606552\n"
     ]
    }
   ],
   "source": [
    "from datetime import datetime\n",
    "\n",
    "print(datetime.now())"
   ]
  },
  {
   "cell_type": "markdown",
   "id": "0d1314ac-c4fa-44ae-8613-1ae46407e3fa",
   "metadata": {},
   "source": [
    "5. The Python documentation for the datetime module provides two attributes to retrieve the year from a date or datetime object: year and isocalendar. What is the difference between the year attribute and the isocalendar method?"
   ]
  },
  {
   "cell_type": "code",
   "execution_count": 4,
   "id": "49a5659a-177b-4cd3-b2b3-d5e7ef344377",
   "metadata": {},
   "outputs": [
    {
     "name": "stdout",
     "output_type": "stream",
     "text": [
      "2024\n",
      "2024\n"
     ]
    }
   ],
   "source": [
    "from datetime import date\n",
    "\n",
    "today = date.today()\n",
    "\n",
    "today_year = today.year\n",
    "iso_year = today.isocalendar()[0]\n",
    "\n",
    "print(today_year)\n",
    "print(iso_year)"
   ]
  },
  {
   "cell_type": "code",
   "execution_count": null,
   "id": "11192083-3b90-40f2-9b0b-c458e2eb3e08",
   "metadata": {},
   "outputs": [],
   "source": []
  },
  {
   "cell_type": "markdown",
   "id": "b3ae179c-6091-4c64-83b3-03ee0b63dea4",
   "metadata": {},
   "source": [
    "The ISO calendar is a variant of the Gregorian calendar. The first week of an ISO year is the first Gregorian week that contains a Thursday. The first 'day' of the ISO year is the Monday of the first week that contains a Thursday. That might be different from the Gregorian calendar year for that Monday. \n",
    "\n",
    "6. How many arguments does the str.join method expect? What happens if you call it with fewer or more arguments?\n",
    "\n",
    "It takes one argument, an iterable of strings (can ONLY contain strings); more or fewer args => TypeError\n",
    "\n",
    "7. Using the official Python documentation, can you determine how to check whether a string contains a specific substring?\n",
    "\n",
    "`substring in string`\n",
    "\n",
    "8. The following code raises a SyntaxError What does a SyntaxError indicate? Try running the above code, then use the resulting error message to fix the error.\n",
    "\n",
    "A syntax error indicates improper code formatting or malformed statement; here, it indicates that the colon `:` is missing from the if statement.\n",
    "\n"
   ]
  },
  {
   "cell_type": "code",
   "execution_count": 7,
   "id": "b7d1aa64-d931-43e7-9658-3e0ac4758671",
   "metadata": {},
   "outputs": [
    {
     "name": "stdout",
     "output_type": "stream",
     "text": [
      "\"People are so bad at driving cars that computers don't have to be that good to be much better.\" -- Marc Andreessen\n"
     ]
    }
   ],
   "source": [
    "speed_limit = 60\n",
    "current_speed = 80\n",
    "\n",
    "if current_speed > speed_limit: # : originally missing\n",
    "    print('\"People are so bad at driving cars that '\n",
    "          \"computers don\\'t have to be that good to be \"\n",
    "          'much better.\" -- Marc Andreessen')"
   ]
  },
  {
   "cell_type": "markdown",
   "id": "48b1879c-3ad8-4d53-9ccf-47353805b5a2",
   "metadata": {},
   "source": [
    "9.What does a TypeError indicate? Try running the below code, then use the resulting error message to determine exactly what is wrong. (You don't have to fix this code.)\n",
    "\n",
    "The error here is that we are using the `+` operator with a `str` and `int`.  A TypeError indicates that an operation or function is being applied to an object of inappropriate type--here, `+` is not defined to concatenate `str` with `int`. If the `str` is first, it is reported as a concatenation error. "
   ]
  },
  {
   "cell_type": "code",
   "execution_count": 8,
   "id": "786d44e8-2668-4de0-87b9-78c94bef7c8a",
   "metadata": {},
   "outputs": [
    {
     "ename": "TypeError",
     "evalue": "can only concatenate str (not \"int\") to str",
     "output_type": "error",
     "traceback": [
      "\u001b[0;31m---------------------------------------------------------------------------\u001b[0m",
      "\u001b[0;31mTypeError\u001b[0m                                 Traceback (most recent call last)",
      "Cell \u001b[0;32mIn[8], line 6\u001b[0m\n\u001b[1;32m      3\u001b[0m \u001b[38;5;28;01mif\u001b[39;00m \u001b[38;5;28mlen\u001b[39m(tweet) \u001b[38;5;241m>\u001b[39m \u001b[38;5;241m140\u001b[39m:\n\u001b[1;32m      4\u001b[0m     \u001b[38;5;28mprint\u001b[39m(\u001b[38;5;124m'\u001b[39m\u001b[38;5;124mTweet is too long!\u001b[39m\u001b[38;5;124m'\u001b[39m)\n\u001b[0;32m----> 6\u001b[0m length_of_tweet \u001b[38;5;241m=\u001b[39m \u001b[38;5;28mlen\u001b[39m(\u001b[43mtweet\u001b[49m\u001b[43m \u001b[49m\u001b[38;5;241;43m+\u001b[39;49m\u001b[43m \u001b[49m\u001b[38;5;241;43m5\u001b[39;49m)\n",
      "\u001b[0;31mTypeError\u001b[0m: can only concatenate str (not \"int\") to str"
     ]
    }
   ],
   "source": [
    "tweet = 'Woohoo! :-)'\n",
    "\n",
    "if len(tweet) > 140:\n",
    "    print('Tweet is too long!')\n",
    "\n",
    "length_of_tweet = len(tweet + 5)"
   ]
  },
  {
   "cell_type": "markdown",
   "id": "ad338694-a03f-4a22-8bcd-7eea88565638",
   "metadata": {},
   "source": [
    "# Loops\n",
    "\n",
    "1. Add some code inside the following for loop to print the current value of num on each iteration. Before you execute the code: What sequence of numbers do you expect to be printed?\n",
    "\n",
    "expectation: 0, 2, 4, 6, 8, 10 (on separate lines)"
   ]
  },
  {
   "cell_type": "code",
   "execution_count": 9,
   "id": "a6e11424-8695-4d4e-b59a-d8b6b2a47b4d",
   "metadata": {},
   "outputs": [
    {
     "name": "stdout",
     "output_type": "stream",
     "text": [
      "0\n",
      "2\n",
      "4\n",
      "6\n",
      "8\n",
      "10\n"
     ]
    }
   ],
   "source": [
    "for num in range(0, 11, 2):\n",
    "    print(num)"
   ]
  },
  {
   "cell_type": "markdown",
   "id": "d08c5002-fde6-44ed-bf91-ff445e615ecb",
   "metadata": {},
   "source": [
    "2. The following code prints the numbers from 1 to 10. Modify it so that it instead prints the numbers from 10 to 1 in descending order, followed by 'Launch!'.\n",
    "\n",
    "```python\n",
    "for i in range(1, 11):\n",
    "    print(i)\n",
    "```"
   ]
  },
  {
   "cell_type": "code",
   "execution_count": 12,
   "id": "b60f3d1b-d41d-4acb-a903-429b09d56c7e",
   "metadata": {},
   "outputs": [
    {
     "name": "stdout",
     "output_type": "stream",
     "text": [
      "10\n",
      "9\n",
      "8\n",
      "7\n",
      "6\n",
      "5\n",
      "4\n",
      "3\n",
      "2\n",
      "1\n",
      "Launch!\n"
     ]
    }
   ],
   "source": [
    "for i in range(10, 0, -1):\n",
    "    print(i)\n",
    "\n",
    "print('Launch!')"
   ]
  },
  {
   "cell_type": "markdown",
   "id": "ed8eb3fd-2d38-4ef1-a3aa-bee4d4464207",
   "metadata": {},
   "source": [
    "3. Write a loop that prints the value of the greeting variable three times.\n",
    "\n",
    "Note we use a `_` for a variable we must have a placeholder for but we don't use."
   ]
  },
  {
   "cell_type": "code",
   "execution_count": 14,
   "id": "84f9be30-adbb-4190-8cd0-48b39402767d",
   "metadata": {},
   "outputs": [
    {
     "name": "stdout",
     "output_type": "stream",
     "text": [
      "Aloha!\n",
      "Aloha!\n",
      "Aloha!\n"
     ]
    }
   ],
   "source": [
    "greeting = 'Aloha!'\n",
    "\n",
    "for _ in range(1, 4):\n",
    "    print(greeting)"
   ]
  },
  {
   "cell_type": "markdown",
   "id": "6093592b-ad42-4273-b3bd-cfb5d95b7802",
   "metadata": {},
   "source": [
    "4. Write a for loop that iterates over the integers from 1 to 100 and prints the result of multiplying each integer by 2."
   ]
  },
  {
   "cell_type": "code",
   "execution_count": 15,
   "id": "ccc91b64-d17f-47da-a482-f772a3ccae06",
   "metadata": {
    "collapsed": true,
    "jupyter": {
     "outputs_hidden": true
    }
   },
   "outputs": [
    {
     "name": "stdout",
     "output_type": "stream",
     "text": [
      "2\n",
      "4\n",
      "6\n",
      "8\n",
      "10\n",
      "12\n",
      "14\n",
      "16\n",
      "18\n",
      "20\n",
      "22\n",
      "24\n",
      "26\n",
      "28\n",
      "30\n",
      "32\n",
      "34\n",
      "36\n",
      "38\n",
      "40\n",
      "42\n",
      "44\n",
      "46\n",
      "48\n",
      "50\n",
      "52\n",
      "54\n",
      "56\n",
      "58\n",
      "60\n",
      "62\n",
      "64\n",
      "66\n",
      "68\n",
      "70\n",
      "72\n",
      "74\n",
      "76\n",
      "78\n",
      "80\n",
      "82\n",
      "84\n",
      "86\n",
      "88\n",
      "90\n",
      "92\n",
      "94\n",
      "96\n",
      "98\n",
      "100\n",
      "102\n",
      "104\n",
      "106\n",
      "108\n",
      "110\n",
      "112\n",
      "114\n",
      "116\n",
      "118\n",
      "120\n",
      "122\n",
      "124\n",
      "126\n",
      "128\n",
      "130\n",
      "132\n",
      "134\n",
      "136\n",
      "138\n",
      "140\n",
      "142\n",
      "144\n",
      "146\n",
      "148\n",
      "150\n",
      "152\n",
      "154\n",
      "156\n",
      "158\n",
      "160\n",
      "162\n",
      "164\n",
      "166\n",
      "168\n",
      "170\n",
      "172\n",
      "174\n",
      "176\n",
      "178\n",
      "180\n",
      "182\n",
      "184\n",
      "186\n",
      "188\n",
      "190\n",
      "192\n",
      "194\n",
      "196\n",
      "198\n",
      "200\n"
     ]
    }
   ],
   "source": [
    "for i in range(1, 101):\n",
    "    print(i * 2)"
   ]
  },
  {
   "cell_type": "markdown",
   "id": "4e937c04-224f-4b32-8716-68ef6c301896",
   "metadata": {},
   "source": [
    "5. Using the code below as a starting point, write a while loop that prints the elements of lst at each index and terminates after printing the last element of the list.\n",
    "\n",
    "If lst is empty, the while loop won't be entered at all (len == 0)"
   ]
  },
  {
   "cell_type": "code",
   "execution_count": 19,
   "id": "b450fd44-9aa5-460c-bf7e-ca3bb0f870b7",
   "metadata": {},
   "outputs": [
    {
     "name": "stdout",
     "output_type": "stream",
     "text": [
      "1\n",
      "3\n",
      "7\n",
      "15\n"
     ]
    }
   ],
   "source": [
    "lst = [1, 3, 7, 15]\n",
    "index = 0\n",
    "\n",
    "while index < len(lst):\n",
    "    print(lst[index])\n",
    "    index += 1"
   ]
  },
  {
   "cell_type": "markdown",
   "id": "280b8dee-fc73-4484-a1a0-2535134bf77b",
   "metadata": {},
   "source": [
    "6. Your friends just showed up! Given the following list of names, use a for loop to greet each friend individually."
   ]
  },
  {
   "cell_type": "code",
   "execution_count": 22,
   "id": "209b08ba-1d0f-454e-8185-7e3a86ac7bd7",
   "metadata": {},
   "outputs": [
    {
     "name": "stdout",
     "output_type": "stream",
     "text": [
      "Hello, Sarah!\n",
      "Hello, John!\n",
      "Hello, Hannah!\n",
      "Hello, Dave!\n"
     ]
    }
   ],
   "source": [
    "friends = ['Sarah', 'John', 'Hannah', 'Dave']\n",
    "\n",
    "for friend in friends:\n",
    "    print(f'Hello, {friend}!')"
   ]
  },
  {
   "cell_type": "markdown",
   "id": "ed935f57-5d6b-453c-bfeb-f06e8049d552",
   "metadata": {},
   "source": [
    "7. Write a for loop that iterates over the elements of the list cities and prints the length of each string. If the element is None, use the continue statement to skip forward to the next iteration without printing anything."
   ]
  },
  {
   "cell_type": "code",
   "execution_count": 25,
   "id": "81635bcb-4177-4a60-b55a-1ffd48b5020c",
   "metadata": {},
   "outputs": [
    {
     "name": "stdout",
     "output_type": "stream",
     "text": [
      "Istanbul\n",
      "Los Angeles\n",
      "Tokyo\n",
      "Vienna\n",
      "London\n",
      "Beijing\n"
     ]
    }
   ],
   "source": [
    "cities = ['Istanbul', 'Los Angeles', 'Tokyo', None,\n",
    "          'Vienna', None, 'London', 'Beijing', None]\n",
    "\n",
    "for city in cities:\n",
    "    if city is None:\n",
    "        continue\n",
    "    print(city)"
   ]
  },
  {
   "cell_type": "code",
   "execution_count": null,
   "id": "e1827eda-4d45-4695-957a-166b9773e0e1",
   "metadata": {},
   "outputs": [],
   "source": [
    "8. The following code keeps looping forever. (You can hit Ctrl-C to stop it.) Why does the loop keep running? Modify it so that it stops after the first iteration."
   ]
  },
  {
   "cell_type": "code",
   "execution_count": 26,
   "id": "e98dffe0-ee33-426f-9e91-9e2f35383955",
   "metadata": {},
   "outputs": [
    {
     "name": "stdout",
     "output_type": "stream",
     "text": [
      "and on\n"
     ]
    }
   ],
   "source": [
    "while True:\n",
    "    print(\"and on\")\n",
    "    break"
   ]
  },
  {
   "cell_type": "markdown",
   "id": "3d6776fe-c4f8-40e6-b615-99212a64fe1a",
   "metadata": {},
   "source": [
    "9. Loop over the elements of the fish_list list below, logging each one. Terminate the loop immediately after printing the string 'Nemo'."
   ]
  },
  {
   "cell_type": "code",
   "execution_count": 28,
   "id": "22bb93e2-8678-493d-afd3-1b3c9ec2c62a",
   "metadata": {},
   "outputs": [
    {
     "name": "stdout",
     "output_type": "stream",
     "text": [
      "Dory\n",
      "Marlin\n",
      "Gill\n",
      "Nemo\n"
     ]
    }
   ],
   "source": [
    "fish_list = ['Dory', 'Marlin', 'Gill', 'Nemo', 'Bruce']\n",
    "\n",
    "for fish in fish_list:\n",
    "    print(fish)\n",
    "    if fish == 'Nemo':\n",
    "        break"
   ]
  },
  {
   "cell_type": "markdown",
   "id": "bd9d00df-df27-46cb-9d3f-40d1d2ad6f18",
   "metadata": {},
   "source": [
    "10. Modify the following code so the loop continues iterating until the user inputs 'yes'."
   ]
  },
  {
   "cell_type": "code",
   "execution_count": 29,
   "id": "ed5ae61e-44b9-4e00-a754-24520a9a6fdf",
   "metadata": {},
   "outputs": [
    {
     "name": "stdout",
     "output_type": "stream",
     "text": [
      "Should I stop looping?\n"
     ]
    },
    {
     "name": "stdin",
     "output_type": "stream",
     "text": [
      " no\n"
     ]
    },
    {
     "name": "stdout",
     "output_type": "stream",
     "text": [
      "Should I stop looping?\n"
     ]
    },
    {
     "name": "stdin",
     "output_type": "stream",
     "text": [
      " no\n"
     ]
    },
    {
     "name": "stdout",
     "output_type": "stream",
     "text": [
      "Should I stop looping?\n"
     ]
    },
    {
     "name": "stdin",
     "output_type": "stream",
     "text": [
      " yes\n"
     ]
    }
   ],
   "source": [
    "while True:\n",
    "    print('Should I stop looping?')\n",
    "    answer = input()\n",
    "    if answer == 'yes':\n",
    "        break"
   ]
  },
  {
   "cell_type": "markdown",
   "id": "6fca082f-b5e7-4e37-ba43-6384db905b2a",
   "metadata": {},
   "source": [
    "# Conditionals\n",
    "\n",
    "1. Without looking at your notes or the official documentation, try to recall all values that count as falsy in Python.\n",
    "\n",
    "0, None, '', empty collections ([], {}, (), set()), False, range(0)\n",
    "\n",
    "2. The code provided below randomly initializes random_number to either 0 or 1 each time it is executed.\n",
    "\n",
    "Write an if statement that prints Yes! if random_number is 1, and No. if random_number is 0."
   ]
  },
  {
   "cell_type": "code",
   "execution_count": 34,
   "id": "466d78e0-5fcd-407d-9396-4dbc571f1c59",
   "metadata": {},
   "outputs": [
    {
     "name": "stdout",
     "output_type": "stream",
     "text": [
      "No.\n"
     ]
    }
   ],
   "source": [
    "import random\n",
    "random_number = random.randint(0, 1)\n",
    "\n",
    "if random_number == 1:\n",
    "    print('Yes!')\n",
    "else:\n",
    "    print('No.')"
   ]
  },
  {
   "cell_type": "markdown",
   "id": "48993cb5-c2b0-4bcf-936b-aaf1687393e8",
   "metadata": {},
   "source": [
    "3. Rewrite your code from the previous exercise to use a ternary expression."
   ]
  },
  {
   "cell_type": "code",
   "execution_count": 36,
   "id": "7cedeeb6-9ddf-4398-a9a7-a7cfaea92f81",
   "metadata": {},
   "outputs": [
    {
     "name": "stdout",
     "output_type": "stream",
     "text": [
      "No.\n"
     ]
    }
   ],
   "source": [
    "import random\n",
    "random_number = random.randint(0, 1)\n",
    "\n",
    "print('Yes!' if random_number == 1 else 'No.')\n"
   ]
  },
  {
   "cell_type": "markdown",
   "id": "92a55bb0-f9b6-4eb2-805d-5da2d24a10c0",
   "metadata": {},
   "source": [
    "4. Initialize a variable weather with a string value being 'sunny', 'rainy', or whatever weather condition you choose. Then, write an if statement that prints:\n",
    "\n",
    "It's a beautiful day! if weather's value is 'sunny'\n",
    "Grab your umbrella. if weather's value is 'rainy'\n",
    "Let's stay inside. if weather's value is anything else\n",
    "Test your code with different values for weather."
   ]
  },
  {
   "cell_type": "code",
   "execution_count": 51,
   "id": "99e8735d-d2bb-4bdb-96af-48adcc1acbc5",
   "metadata": {},
   "outputs": [
    {
     "name": "stdout",
     "output_type": "stream",
     "text": [
      "Grab your umbrella.\n"
     ]
    }
   ],
   "source": [
    "import random\n",
    "\n",
    "weather = ['sunny', 'rainy', 'windy', 'snowy']\n",
    "current_weather = random.choice(weather)\n",
    "\n",
    "if current_weather == 'sunny':\n",
    "    print('It\\'s a beautiful day!')\n",
    "elif current_weather == 'rainy':\n",
    "    print('Grab your umbrella.')\n",
    "else:\n",
    "    print('Let\\'s stay inside.')"
   ]
  },
  {
   "cell_type": "code",
   "execution_count": null,
   "id": "cafc9640-c34c-4d58-94d0-b4133f7040fa",
   "metadata": {},
   "outputs": [],
   "source": [
    "5. Examine the code shown below. Without running it, determine what it will print. If you're not sure, refer to our Python book.\n",
    "\n",
    "Will print 'neigh'"
   ]
  },
  {
   "cell_type": "code",
   "execution_count": 52,
   "id": "37782a61-7739-4556-9389-423ecedacaa1",
   "metadata": {},
   "outputs": [
    {
     "name": "stdout",
     "output_type": "stream",
     "text": [
      "neigh\n"
     ]
    }
   ],
   "source": [
    "animal = 'horse'\n",
    "\n",
    "match animal:\n",
    "    case 'duck':\n",
    "        print('quack')\n",
    "    case 'squirrel':\n",
    "        print('nook nook')\n",
    "    case 'horse':\n",
    "        print('neigh')\n",
    "    case 'bird':\n",
    "        print('tweet tweet')\n",
    "    case _:\n",
    "        print('*cricket*')"
   ]
  },
  {
   "cell_type": "markdown",
   "id": "eeec8f7f-73a4-46e1-b0a7-99279e84a0d2",
   "metadata": {},
   "source": [
    "6. Take your code from the previous Check the Weather exercise and rewrite it as a match-case statement. Feel free to add more cases besides 'sunny' and 'rainy'."
   ]
  },
  {
   "cell_type": "code",
   "execution_count": 54,
   "id": "aaf2de41-be4b-4e2a-8a2f-bbb17a8f7a49",
   "metadata": {},
   "outputs": [
    {
     "name": "stdout",
     "output_type": "stream",
     "text": [
      "Let's stay inside.\n"
     ]
    }
   ],
   "source": [
    "import random\n",
    "\n",
    "weather = ['sunny', 'rainy', 'windy', 'snowy']\n",
    "current_weather = random.choice(weather)\n",
    "\n",
    "match current_weather:\n",
    "    case 'sunny':\n",
    "        print('It\\'s a beautiful day!')\n",
    "    case 'rainy':\n",
    "        print('Grab your umbrella')\n",
    "    case _:\n",
    "        print('Let\\'s stay inside.')"
   ]
  },
  {
   "cell_type": "markdown",
   "id": "82fa00af-2e8e-4ec5-8910-679936387fee",
   "metadata": {},
   "source": [
    "7. Predict the output of the following code:\n",
    "\n",
    "Will print `Yes!`-- with `or`, the condition is True if either value is Truthy"
   ]
  },
  {
   "cell_type": "code",
   "execution_count": 55,
   "id": "62d2764c-969d-4bf2-a68e-66ded8805254",
   "metadata": {},
   "outputs": [
    {
     "name": "stdout",
     "output_type": "stream",
     "text": [
      "Yes!\n"
     ]
    }
   ],
   "source": [
    "if False or True:\n",
    "    print('Yes!')\n",
    "else:\n",
    "    print('No...')"
   ]
  },
  {
   "cell_type": "markdown",
   "id": "58f87884-e0e5-4527-a08f-80698315e2b8",
   "metadata": {},
   "source": [
    "8. Predict the output of the following code:\n",
    "\n",
    "Will print 'No...'; with `and`, both values must be Truthy for the condition to be True"
   ]
  },
  {
   "cell_type": "code",
   "execution_count": 56,
   "id": "71da057a-0d47-434c-bd7d-2afa6af46873",
   "metadata": {},
   "outputs": [
    {
     "name": "stdout",
     "output_type": "stream",
     "text": [
      "No...\n"
     ]
    }
   ],
   "source": [
    "if True and False:\n",
    "    print('Yes!')\n",
    "else:\n",
    "    print('No...')"
   ]
  },
  {
   "cell_type": "markdown",
   "id": "59ab0521-f68c-4e5b-aa3d-77f368b77ece",
   "metadata": {},
   "source": [
    "9. Without running the following code, determine what will be printed.\n",
    "\n",
    "'$3.99'\n"
   ]
  },
  {
   "cell_type": "code",
   "execution_count": 57,
   "id": "53f359e6-5112-4b18-b5dd-836bb42e848f",
   "metadata": {},
   "outputs": [
    {
     "name": "stdout",
     "output_type": "stream",
     "text": [
      "$3.99\n"
     ]
    }
   ],
   "source": [
    "sale = True\n",
    "admission_price = 5.25 if not sale else 3.99\n",
    "\n",
    "print(f\"${admission_price}\")"
   ]
  },
  {
   "cell_type": "markdown",
   "id": "9ba17781-7a6d-48a1-a1d6-345f3c9e647c",
   "metadata": {},
   "source": [
    "10. Determine what the following code snippet prints. First solve it in your head or on paper, then run it in your Python environment to check the result.\n",
    "\n",
    "Will print `True`. \n",
    "is_moving = True and (False or True) => True and True => True\n",
    "\n",
    "Bonus question: Do we need the parentheses in the boolean expression or could we have written the following?:\n",
    "\n",
    "The parentheses are needed here. `and` has higher precedence than `or`, and the below statement would be:\n",
    "is_moving = True and False or True => False or True => True\n",
    "\n",
    "The result is still `True`, but the order is different with the ()\n",
    "\n",
    "```python\n",
    "is_moving = braking_force < acceleration and speed > 0 or acceleration > 0\n",
    "```"
   ]
  },
  {
   "cell_type": "code",
   "execution_count": 58,
   "id": "bceabb6c-5633-48dd-97b2-20b6750ade1a",
   "metadata": {},
   "outputs": [
    {
     "name": "stdout",
     "output_type": "stream",
     "text": [
      "True\n"
     ]
    }
   ],
   "source": [
    "speed = 0\n",
    "acceleration = 24\n",
    "braking_force = 19\n",
    "is_moving = braking_force < acceleration and (speed > 0 or acceleration > 0)\n",
    "print(is_moving)"
   ]
  },
  {
   "cell_type": "markdown",
   "id": "61e34a94-d693-42bc-a016-c33afb41c425",
   "metadata": {},
   "source": [
    "# Functions\n",
    "\n",
    "1. Examine the function invocation below. Write the function multiply, such that it accepts two arguments and returns the product of its arguments. You may assume that the function arguments will always be numbers."
   ]
  },
  {
   "cell_type": "code",
   "execution_count": 62,
   "id": "75ad2c17-2fcb-4bb6-b72a-d46c14262df7",
   "metadata": {},
   "outputs": [
    {
     "data": {
      "text/plain": [
       "48"
      ]
     },
     "execution_count": 62,
     "metadata": {},
     "output_type": "execute_result"
    }
   ],
   "source": [
    "def multiply(val1, val2):\n",
    "    return val1 * val2\n",
    "\n",
    "multiply(12, 4)      # 48"
   ]
  },
  {
   "cell_type": "markdown",
   "id": "c70dd8a9-ec83-443f-892a-531a1c0cf1c6",
   "metadata": {},
   "source": [
    "2. Write a function that prints Bruce Eckel's quote 'Python is executable pseudocode.'. What is the return value of the function?\n",
    "\n",
    "There is no explicit return statement, so the function's return value is `None`"
   ]
  },
  {
   "cell_type": "code",
   "execution_count": 64,
   "id": "be339df6-18d9-4128-85b1-9c8ef69363ee",
   "metadata": {},
   "outputs": [
    {
     "name": "stdout",
     "output_type": "stream",
     "text": [
      "Python is executable pseudocode.\n"
     ]
    }
   ],
   "source": [
    "def bruce_eckel_quote():\n",
    "    print('Python is executable pseudocode.')\n",
    "    \n",
    "bruce_eckel_quote()"
   ]
  },
  {
   "cell_type": "markdown",
   "id": "82f93189-682c-4b11-9a0a-3acbc47890ec",
   "metadata": {},
   "source": [
    "3. Let's generalize the function from the previous exercise. Implement a function named cite that takes two string arguments: the author of the quote and what they said. It then prints the quote, as shown below."
   ]
  },
  {
   "cell_type": "code",
   "execution_count": 65,
   "id": "3af0c374-ca0b-4fcb-aa38-9d15dc5873e5",
   "metadata": {},
   "outputs": [
    {
     "name": "stdout",
     "output_type": "stream",
     "text": [
      "Bruce Eckel said \"Python is executable pseudocode.\"\n"
     ]
    }
   ],
   "source": [
    "def cite(author, quote):\n",
    "    print(f'{author} said \"{quote}\"')\n",
    "\n",
    "cite('Bruce Eckel', 'Python is executable pseudocode.')\n",
    "# Bruce Eckel said: \"Python is executable pseudocode.\""
   ]
  },
  {
   "cell_type": "markdown",
   "id": "9588c952-b6db-4ee2-a5df-c9790aa2561c",
   "metadata": {},
   "source": [
    "4. Write a function that accepts a single argument, a number, and returns the result of multiplying its argument by an exponent of 2 (also known as squaring the number or raising the number to the power of 2)."
   ]
  },
  {
   "cell_type": "code",
   "execution_count": 66,
   "id": "42a31c8b-934c-4466-9a2b-1aea81079231",
   "metadata": {},
   "outputs": [
    {
     "data": {
      "text/plain": [
       "9"
      ]
     },
     "execution_count": 66,
     "metadata": {},
     "output_type": "execute_result"
    }
   ],
   "source": [
    "def squared_number(number):\n",
    "    return number**2\n",
    "    \n",
    "squared_number(3)   # 9"
   ]
  },
  {
   "cell_type": "markdown",
   "id": "a4169ee2-5fdc-4c30-be90-50689d671898",
   "metadata": {},
   "source": [
    "5. Without running the following code, determine what it will print:\n",
    "\n",
    "Nothing will be printed; the function is not invoked!"
   ]
  },
  {
   "cell_type": "code",
   "execution_count": 69,
   "id": "6ad33eea-e3af-4b27-b67d-3fa55a9b92cc",
   "metadata": {},
   "outputs": [
    {
     "data": {
      "text/plain": [
       "<function __main__.multiples_of_three()>"
      ]
     },
     "execution_count": 69,
     "metadata": {},
     "output_type": "execute_result"
    }
   ],
   "source": [
    "def multiples_of_three():\n",
    "    divisor = 1\n",
    "\n",
    "    for dividend in range(3, 31, 3):\n",
    "        print(f'{dividend} / {divisor} = 3')\n",
    "        divisor += 1\n",
    "\n",
    "multiples_of_three"
   ]
  },
  {
   "cell_type": "markdown",
   "id": "5c134247-0f06-471c-a9e2-7d980d7d4d8c",
   "metadata": {},
   "source": [
    "6. Write a function that compares the length of two strings. It should return -1 if the first string is shorter, 1 if the second string is shorter, and 0 if they're of equal length. For example:"
   ]
  },
  {
   "cell_type": "code",
   "execution_count": 81,
   "id": "44a634cd-5bb4-4311-850e-f65eed407499",
   "metadata": {},
   "outputs": [
    {
     "data": {
      "text/plain": [
       "-1"
      ]
     },
     "execution_count": 81,
     "metadata": {},
     "output_type": "execute_result"
    }
   ],
   "source": [
    "def compare_by_length(word1, word2):\n",
    "    comparison = len(word1) - len(word2)\n",
    "\n",
    "    # return 0 if comparison == 0 else int(comparison / abs(comparison))\n",
    "    return 0 if comparison == 0 else comparison // abs(comparison)\n",
    "\n",
    "compare_by_length('patience', 'perseverance') # -1\n",
    "compare_by_length('strength', 'dignity')      #  1\n",
    "compare_by_length('humor', 'grace')           #  0"
   ]
  },
  {
   "cell_type": "markdown",
   "id": "e9d33a88-e8ad-4424-b0a9-e6c07726d3ef",
   "metadata": {},
   "source": [
    "7. Use Python's string methods on the string 'Captain Ruby' to create a string with the value 'Captain Python'."
   ]
  },
  {
   "cell_type": "code",
   "execution_count": 82,
   "id": "fa210884-1744-4dcc-a9dd-1a0bd5900fcc",
   "metadata": {},
   "outputs": [
    {
     "name": "stdout",
     "output_type": "stream",
     "text": [
      "Captain Python\n"
     ]
    }
   ],
   "source": [
    "original_string = 'Captain Ruby'\n",
    "new_string = original_string.replace('Ruby', 'Python')\n",
    "print(new_string)"
   ]
  },
  {
   "cell_type": "markdown",
   "id": "57dff77c-20fd-4109-90da-a8ca23d9aa13",
   "metadata": {},
   "source": [
    "8. Use Python's control structures to create a function that takes an ISO 639-1 language code and returns a greeting in that language. You can take the examples below or add whatever languages you like."
   ]
  },
  {
   "cell_type": "code",
   "execution_count": 85,
   "id": "aa2abca4-4ce8-4a86-bc49-66202187276c",
   "metadata": {},
   "outputs": [
    {
     "name": "stdout",
     "output_type": "stream",
     "text": [
      "Hi!\n",
      "Salut!\n",
      "Olá!\n",
      "Hallo!\n",
      "Hej!\n",
      "Haai!\n"
     ]
    }
   ],
   "source": [
    "def greet(language):\n",
    "    match language:\n",
    "        case 'en':\n",
    "            return 'Hi!'\n",
    "        case 'fr':\n",
    "            return 'Salut!'\n",
    "        case 'pt':\n",
    "            return 'Olá!'\n",
    "        case 'de':\n",
    "            return 'Hallo!'\n",
    "        case 'sv':\n",
    "            return 'Hej!'\n",
    "        case 'af':\n",
    "            return 'Haai!'\n",
    "\n",
    "print(greet('en'))         # Hi!\n",
    "print(greet('fr'))         # Salut!\n",
    "print(greet('pt'))         # Olá!\n",
    "print(greet('de'))         # Hallo!\n",
    "print(greet('sv'))         # Hej!\n",
    "print(greet('af'))         # Haai!"
   ]
  },
  {
   "cell_type": "markdown",
   "id": "89d86f4a-f928-4753-909a-a0e272bbdfb9",
   "metadata": {},
   "source": [
    "9. Write a function that extracts the language code from a locale. A locale is a combination of a language code, a region, and usually also a character set, e.g en_US.UTF-8."
   ]
  },
  {
   "cell_type": "code",
   "execution_count": 91,
   "id": "c5c14fda-0bb4-4fdd-8854-ac8a4f2cc1d7",
   "metadata": {},
   "outputs": [
    {
     "name": "stdout",
     "output_type": "stream",
     "text": [
      "en\n",
      "en\n",
      "ko\n"
     ]
    }
   ],
   "source": [
    "def extract_language(locale):\n",
    "    return locale.split('_')[0]\n",
    "\n",
    "print(extract_language('en_US.UTF-8'))      # en\n",
    "print(extract_language('en_GB.UTF-8'))      # en\n",
    "print(extract_language('ko_KR.UTF-16'))     # ko"
   ]
  },
  {
   "cell_type": "markdown",
   "id": "0188b224-9947-4acc-9228-2295022e50e2",
   "metadata": {},
   "source": [
    "10. Similar to the previous exercise, write a function that extracts the region code from a locale. For example:"
   ]
  },
  {
   "cell_type": "code",
   "execution_count": 92,
   "id": "37a6dbe9-deb5-4ad9-9876-84c5c093b6e3",
   "metadata": {},
   "outputs": [
    {
     "name": "stdout",
     "output_type": "stream",
     "text": [
      "US\n",
      "GB\n",
      "KR\n"
     ]
    }
   ],
   "source": [
    "def extract_region(locale):\n",
    "    return locale.split('.')[0].split('_')[1]\n",
    "\n",
    "print(extract_region('en_US.UTF-8'))    # US\n",
    "print(extract_region('en_GB.UTF-8'))    # GB\n",
    "print(extract_region('ko_KR.UTF-16'))   # KR"
   ]
  },
  {
   "cell_type": "markdown",
   "id": "0efea348-95b9-42ec-8e04-0e94d3c82c5f",
   "metadata": {},
   "source": [
    "11. Building on your solutions from the previous exercises, write a function local_greet that takes a locale as input, and returns a greeting. The locale lets us greet people from different countries appropriately, even when they share a common language. Distinguish greetings for English speaking countries like the US, UK, Canada, or Australia in your implementation, and feel free to fall back on the language-specific greetings in all other cases. When implementing local_greet, make sure you re-use your extract_language, extract_region, and greet functions from the previous exercises.\n",
    "\n",
    "\n",
    "\n"
   ]
  },
  {
   "cell_type": "code",
   "execution_count": 94,
   "id": "e08672db-0240-4087-84d7-9100c2a418de",
   "metadata": {},
   "outputs": [
    {
     "name": "stdout",
     "output_type": "stream",
     "text": [
      "Hey!\n",
      "Hello!\n",
      "Howdy!\n",
      "Salut!\n",
      "Salut!\n",
      "Salut!\n"
     ]
    }
   ],
   "source": [
    "def greet(language):\n",
    "    match language:\n",
    "        case 'en':\n",
    "            return 'Hi!'\n",
    "        case 'fr':\n",
    "            return 'Salut!'\n",
    "        case 'pt':\n",
    "            return 'Olá!'\n",
    "        case 'de':\n",
    "            return 'Hallo!'\n",
    "        case 'sv':\n",
    "            return 'Hej!'\n",
    "        case 'af':\n",
    "            return 'Haai!'\n",
    "\n",
    "def extract_language(locale):\n",
    "    return locale.split('_')[0]\n",
    "\n",
    "def extract_region(locale):\n",
    "    return locale.split('.')[0].split('_')[1]\n",
    "\n",
    "def local_greet(locale):\n",
    "    language = extract_language(locale)\n",
    "\n",
    "    match(language):\n",
    "        case 'en':\n",
    "            region = extract_region(locale)\n",
    "            if region == 'US':\n",
    "                return 'Hey!'\n",
    "            elif region == 'GB':\n",
    "                return 'Hello!'\n",
    "            elif region == 'AU':\n",
    "                return 'Howdy!'\n",
    "        case _:\n",
    "            return greet(language)\n",
    "\n",
    "print(local_greet('en_US.UTF-8'))       # Hey!\n",
    "print(local_greet('en_GB.UTF-8'))       # Hello!\n",
    "print(local_greet('en_AU.UTF-8'))       # Howdy!\n",
    "\n",
    "print(local_greet('fr_FR.UTF-8'))       # Salut!\n",
    "print(local_greet('fr_CA.UTF-8'))       # Salut!\n",
    "print(local_greet('fr_MA.UTF-8'))       # Salut!"
   ]
  },
  {
   "cell_type": "markdown",
   "id": "bb99700e-d08c-427d-b442-7a4296e259ba",
   "metadata": {},
   "source": [
    "# Variable scope\n",
    "\n",
    "1. What will the following code do and why? Don't run it until you have tried to answer.\n",
    "\n",
    "will print '20'. Variables initialized inside a block are accessible outside the block IF that block executes; if the block does not execute => `NameError`"
   ]
  },
  {
   "cell_type": "code",
   "execution_count": 95,
   "id": "224d92b6-4517-4101-b64f-aadccf05f144",
   "metadata": {},
   "outputs": [
    {
     "name": "stdout",
     "output_type": "stream",
     "text": [
      "20\n"
     ]
    }
   ],
   "source": [
    "if True:\n",
    "    my_value = 20\n",
    "\n",
    "print(my_value)"
   ]
  },
  {
   "cell_type": "markdown",
   "id": "2c38b438-b65e-4db0-99b2-c101a7c53113",
   "metadata": {},
   "source": [
    "2. What will the following code do and why?\n",
    "\n",
    "This will raise an error. When we assign a variable inside a function, Python assumes it is a local variable; here, since x is unitialized in the function, an error results. To prevent an error, we would need to state `global x` before attempting the assignment."
   ]
  },
  {
   "cell_type": "code",
   "execution_count": 98,
   "id": "22d170bf-f9f7-4ee0-a781-7adb3045173a",
   "metadata": {},
   "outputs": [
    {
     "ename": "UnboundLocalError",
     "evalue": "cannot access local variable 'x' where it is not associated with a value",
     "output_type": "error",
     "traceback": [
      "\u001b[0;31m---------------------------------------------------------------------------\u001b[0m",
      "\u001b[0;31mUnboundLocalError\u001b[0m                         Traceback (most recent call last)",
      "Cell \u001b[0;32mIn[98], line 8\u001b[0m\n\u001b[1;32m      5\u001b[0m     x \u001b[38;5;241m=\u001b[39m x \u001b[38;5;241m+\u001b[39m \u001b[38;5;241m5\u001b[39m\n\u001b[1;32m      6\u001b[0m     \u001b[38;5;28mprint\u001b[39m(x)\n\u001b[0;32m----> 8\u001b[0m \u001b[43mmy_function\u001b[49m\u001b[43m(\u001b[49m\u001b[43m)\u001b[49m\n",
      "Cell \u001b[0;32mIn[98], line 5\u001b[0m, in \u001b[0;36mmy_function\u001b[0;34m()\u001b[0m\n\u001b[1;32m      3\u001b[0m \u001b[38;5;28;01mdef\u001b[39;00m \u001b[38;5;21mmy_function\u001b[39m():\n\u001b[1;32m      4\u001b[0m     \u001b[38;5;66;03m# global x\u001b[39;00m\n\u001b[0;32m----> 5\u001b[0m     x \u001b[38;5;241m=\u001b[39m \u001b[43mx\u001b[49m \u001b[38;5;241m+\u001b[39m \u001b[38;5;241m5\u001b[39m\n\u001b[1;32m      6\u001b[0m     \u001b[38;5;28mprint\u001b[39m(x)\n",
      "\u001b[0;31mUnboundLocalError\u001b[0m: cannot access local variable 'x' where it is not associated with a value"
     ]
    }
   ],
   "source": [
    "x = 10\n",
    "\n",
    "def my_function():\n",
    "    # global x\n",
    "    x = x + 5\n",
    "    print(x)\n",
    "\n",
    "my_function()"
   ]
  },
  {
   "cell_type": "markdown",
   "id": "7dfd964c-7b9e-416b-b0c3-19a41023e771",
   "metadata": {},
   "source": [
    "3. What will the following code do and why?\n",
    "\n",
    "Will print `1`; the variable is initialized in the same scope it is invoked."
   ]
  },
  {
   "cell_type": "code",
   "execution_count": 99,
   "id": "2e936be7-85f7-4083-b4d2-709801b65964",
   "metadata": {},
   "outputs": [
    {
     "name": "stdout",
     "output_type": "stream",
     "text": [
      "1\n"
     ]
    }
   ],
   "source": [
    "def my_function():\n",
    "    a = 1\n",
    "\n",
    "    if True:\n",
    "        print(a)\n",
    "\n",
    "my_function()"
   ]
  },
  {
   "cell_type": "markdown",
   "id": "f5c05ccc-babe-4b01-a91a-67b25dcaaeec",
   "metadata": {},
   "source": [
    "4. What will the following code do and why?\n",
    "\n",
    "It will print `1`. Python checks local scope, and if not found, will check enclosing scope. "
   ]
  },
  {
   "cell_type": "code",
   "execution_count": 100,
   "id": "e53c2382-e18d-46fe-bd14-27c9032db615",
   "metadata": {},
   "outputs": [
    {
     "name": "stdout",
     "output_type": "stream",
     "text": [
      "1\n"
     ]
    }
   ],
   "source": [
    "a = 1\n",
    "\n",
    "def my_function():\n",
    "    print(a)\n",
    "\n",
    "my_function()"
   ]
  },
  {
   "cell_type": "markdown",
   "id": "33854c83-d305-419e-acaa-bb77d5626f56",
   "metadata": {},
   "source": [
    "5. What will the following code do and why?\n",
    "\n",
    "Error. Because there is an assignment within the function, `a` is assumed to be local, but it has no value yet."
   ]
  },
  {
   "cell_type": "code",
   "execution_count": 101,
   "id": "99bed778-e1b9-4604-913d-ad948ae2ee75",
   "metadata": {},
   "outputs": [
    {
     "ename": "UnboundLocalError",
     "evalue": "cannot access local variable 'a' where it is not associated with a value",
     "output_type": "error",
     "traceback": [
      "\u001b[0;31m---------------------------------------------------------------------------\u001b[0m",
      "\u001b[0;31mUnboundLocalError\u001b[0m                         Traceback (most recent call last)",
      "Cell \u001b[0;32mIn[101], line 7\u001b[0m\n\u001b[1;32m      4\u001b[0m     \u001b[38;5;28mprint\u001b[39m(a)\n\u001b[1;32m      5\u001b[0m     a \u001b[38;5;241m=\u001b[39m \u001b[38;5;241m2\u001b[39m\n\u001b[0;32m----> 7\u001b[0m \u001b[43mmy_function\u001b[49m\u001b[43m(\u001b[49m\u001b[43m)\u001b[49m\n",
      "Cell \u001b[0;32mIn[101], line 4\u001b[0m, in \u001b[0;36mmy_function\u001b[0;34m()\u001b[0m\n\u001b[1;32m      3\u001b[0m \u001b[38;5;28;01mdef\u001b[39;00m \u001b[38;5;21mmy_function\u001b[39m():\n\u001b[0;32m----> 4\u001b[0m     \u001b[38;5;28mprint\u001b[39m(\u001b[43ma\u001b[49m)\n\u001b[1;32m      5\u001b[0m     a \u001b[38;5;241m=\u001b[39m \u001b[38;5;241m2\u001b[39m\n",
      "\u001b[0;31mUnboundLocalError\u001b[0m: cannot access local variable 'a' where it is not associated with a value"
     ]
    }
   ],
   "source": [
    "a = 1\n",
    "\n",
    "def my_function():\n",
    "    print(a)\n",
    "    a = 2\n",
    "\n",
    "my_function()"
   ]
  },
  {
   "cell_type": "markdown",
   "id": "31c7c10e-aa37-4d5b-8588-4699dba71c60",
   "metadata": {},
   "source": [
    "6. What will the following code do and why?\n",
    "\n",
    "Will print `1`. Because there is an assignment in `my_function()`, the variable `a` in that function is assumed to be local. The assignment does not affect the global variable `a`"
   ]
  },
  {
   "cell_type": "code",
   "execution_count": 102,
   "id": "80eeb1c0-2973-4a83-9076-f1ddedb77071",
   "metadata": {},
   "outputs": [
    {
     "name": "stdout",
     "output_type": "stream",
     "text": [
      "1\n"
     ]
    }
   ],
   "source": [
    "a = 1\n",
    "\n",
    "def my_function():\n",
    "    a = 2\n",
    "\n",
    "my_function()\n",
    "print(a)"
   ]
  },
  {
   "cell_type": "markdown",
   "id": "8bb22601-9294-4445-850b-8d5ac75f0d41",
   "metadata": {},
   "source": [
    "7. What will the following code do and why?\n",
    "\n",
    "Will print `2`. in `my_function()` we assert we are using the global `a`, so that global value is reassigned."
   ]
  },
  {
   "cell_type": "code",
   "execution_count": 103,
   "id": "1d71ced4-62d6-41a0-ba4e-5503dfe040f7",
   "metadata": {},
   "outputs": [
    {
     "name": "stdout",
     "output_type": "stream",
     "text": [
      "2\n"
     ]
    }
   ],
   "source": [
    "a = 1\n",
    "\n",
    "def my_function():\n",
    "    global a\n",
    "    a = 2\n",
    "\n",
    "my_function()\n",
    "print(a)"
   ]
  },
  {
   "cell_type": "markdown",
   "id": "b031c400-d91f-4047-ac7e-30af5c4b9958",
   "metadata": {},
   "source": [
    "8. What will the following code do and why?\n",
    "\n",
    "Error. We are invoking the variable before it is initialized. (`NameError`)"
   ]
  },
  {
   "cell_type": "code",
   "execution_count": 105,
   "id": "5b2bd930-dc34-453f-b388-710aa7e09510",
   "metadata": {},
   "outputs": [
    {
     "ename": "NameError",
     "evalue": "name 'a_greeting' is not defined",
     "output_type": "error",
     "traceback": [
      "\u001b[0;31m---------------------------------------------------------------------------\u001b[0m",
      "\u001b[0;31mNameError\u001b[0m                                 Traceback (most recent call last)",
      "Cell \u001b[0;32mIn[105], line 1\u001b[0m\n\u001b[0;32m----> 1\u001b[0m \u001b[38;5;28mprint\u001b[39m(\u001b[43ma_greeting\u001b[49m)\n\u001b[1;32m      3\u001b[0m a_greeting \u001b[38;5;241m=\u001b[39m \u001b[38;5;124m'\u001b[39m\u001b[38;5;124mHello world!\u001b[39m\u001b[38;5;124m'\u001b[39m\n",
      "\u001b[0;31mNameError\u001b[0m: name 'a_greeting' is not defined"
     ]
    }
   ],
   "source": [
    "print(a_greeting)\n",
    "\n",
    "a_greeting = 'Hello world!'"
   ]
  },
  {
   "cell_type": "markdown",
   "id": "22b6a1ce-8292-479d-9c75-b15bd52009d2",
   "metadata": {},
   "source": [
    "9. What will the following code do and why?\n",
    "\n",
    "This will print `7`. variable `b` is local to the function, and changing its value (`+=` is reassignment) does not affect the immutable `a` variable."
   ]
  },
  {
   "cell_type": "code",
   "execution_count": 106,
   "id": "9479dbb9-5df3-4226-92b1-c75feeb62db5",
   "metadata": {},
   "outputs": [
    {
     "name": "stdout",
     "output_type": "stream",
     "text": [
      "7\n"
     ]
    }
   ],
   "source": [
    "a = 7\n",
    "\n",
    "def my_function(b):\n",
    "    b += 10\n",
    "\n",
    "my_function(a)\n",
    "print(a)"
   ]
  },
  {
   "cell_type": "markdown",
   "id": "0c28edeb-f1e9-4091-920d-0207b811e251",
   "metadata": {},
   "source": [
    "10. What will the following code do and why?\n",
    "\n",
    "Will print `[10, 2, 3]`. There is no local `b` variable in the function, so the global value is used and is mutated. "
   ]
  },
  {
   "cell_type": "code",
   "execution_count": 107,
   "id": "a4d25e9b-01fb-43e1-96f3-08b2c3765b97",
   "metadata": {},
   "outputs": [
    {
     "name": "stdout",
     "output_type": "stream",
     "text": [
      "[10, 2, 3]\n"
     ]
    }
   ],
   "source": [
    "b = [1, 2, 3]\n",
    "\n",
    "def my_function():\n",
    "    b[0] = 10\n",
    "\n",
    "my_function()\n",
    "print(b)"
   ]
  },
  {
   "cell_type": "markdown",
   "id": "5283858b-1140-488b-aa32-7f8b0feca25c",
   "metadata": {},
   "source": [
    "# Strings\n",
    "\n",
    "1. Determine the length of the string \"These aren't the droids you're looking for.\"."
   ]
  },
  {
   "cell_type": "code",
   "execution_count": 108,
   "id": "5aab1953-efde-43ad-b56c-19d7007c7235",
   "metadata": {},
   "outputs": [
    {
     "data": {
      "text/plain": [
       "43"
      ]
     },
     "execution_count": 108,
     "metadata": {},
     "output_type": "execute_result"
    }
   ],
   "source": [
    "len(\"These aren't the droids you're looking for.\")"
   ]
  },
  {
   "cell_type": "markdown",
   "id": "8b4f4cf3-38c0-45f6-ba77-6818f75c12ef",
   "metadata": {},
   "source": [
    "2. Convert the string 'confetti floating everywhere' to all upper case."
   ]
  },
  {
   "cell_type": "code",
   "execution_count": 109,
   "id": "222c49e2-6e75-441f-ad08-a0c9ebed9102",
   "metadata": {},
   "outputs": [
    {
     "name": "stdout",
     "output_type": "stream",
     "text": [
      "CONFETTI FLOATING EVERYWHERE\n"
     ]
    }
   ],
   "source": [
    "my_string = 'confetti floating everywhere'\n",
    "print(my_string.upper())"
   ]
  },
  {
   "cell_type": "markdown",
   "id": "ee8fb558-096a-4c80-a5f3-cfe9fca8c4de",
   "metadata": {},
   "source": [
    "3. Using the following code, compare the value of name with the string 'RoGeR' while ignoring the case of both strings. Print true if the values are the same; print false if they aren't. Next, perform a case-insensitive comparison between the value of name and the string 'DAVE'.\n",
    "\n",
    "Note: use `str.casefold()` instead of `str.lower()` to account for language peculiarities."
   ]
  },
  {
   "cell_type": "code",
   "execution_count": 113,
   "id": "f3852e40-d818-4348-ad19-e68975b191c9",
   "metadata": {},
   "outputs": [
    {
     "name": "stdout",
     "output_type": "stream",
     "text": [
      "True\n",
      "False\n"
     ]
    }
   ],
   "source": [
    "name = 'Roger'\n",
    "comparison = 'RoGeR'\n",
    "other_name = 'DAVE'\n",
    "\n",
    "# print(True if name.lower() == comparison.lower() else False)\n",
    "# print(True if name.lower() == other_name.lower() else False)\n",
    "\n",
    "print(True if name.casefold() == comparison.casefold() else False)\n",
    "print(True if name.casefold() == other_name.casefold() else False)"
   ]
  },
  {
   "cell_type": "markdown",
   "id": "378fa390-9239-45dd-87aa-59eb5089737c",
   "metadata": {},
   "source": [
    "4. How can you assign the following rhyme to a single variable while preserving the line break?\n",
    "```\n",
    "A pirate I was meant to be!\n",
    "Trim the sails and roam the sea!\n",
    "```"
   ]
  },
  {
   "cell_type": "code",
   "execution_count": 119,
   "id": "61af7186-b1bb-4033-93c1-ea497eab64ef",
   "metadata": {},
   "outputs": [
    {
     "name": "stdout",
     "output_type": "stream",
     "text": [
      "A pirate I was meant to be!\n",
      "Trim the sails and roam the sea!\n"
     ]
    }
   ],
   "source": [
    "multiline_string = (\n",
    "    \"A pirate I was meant to be!\\n\"\n",
    "    \"Trim the sails and roam the sea!\"\n",
    ")\n",
    "\n",
    "multiline_string = '''A pirate I was meant to be!\n",
    "Trim the sails and roam the sea!'''\n",
    "\n",
    "print(multiline_string)"
   ]
  },
  {
   "cell_type": "markdown",
   "id": "7a252404-da48-48b2-88f9-4538dc1b6285",
   "metadata": {},
   "source": [
    "5. Write code that checks whether the string char_sequence contains the character x."
   ]
  },
  {
   "cell_type": "code",
   "execution_count": 120,
   "id": "992179e5-91a0-453d-8804-1ae86d7374b9",
   "metadata": {},
   "outputs": [
    {
     "name": "stdout",
     "output_type": "stream",
     "text": [
      "True\n"
     ]
    }
   ],
   "source": [
    "char_sequence = 'TXkgaG92ZXJjcmFmdCBpcyBmdWxsIG9mIGVlbHMu'\n",
    "\n",
    "print('x' in char_sequence)"
   ]
  },
  {
   "cell_type": "markdown",
   "id": "3a049196-c30c-43f7-9cd6-507ca3ee94ec",
   "metadata": {},
   "source": [
    "6. Write a function that checks whether a string is empty or not. "
   ]
  },
  {
   "cell_type": "code",
   "execution_count": 124,
   "id": "b4ec10ef-7ac5-499e-9da5-624a1955c514",
   "metadata": {},
   "outputs": [
    {
     "name": "stdout",
     "output_type": "stream",
     "text": [
      "False\n",
      "False\n",
      "True\n"
     ]
    }
   ],
   "source": [
    "def is_empty(string):\n",
    "    return string == ''\n",
    "\n",
    "print(is_empty('mars'))  # False\n",
    "print(is_empty('  '))    # False\n",
    "print(is_empty(''))      # True"
   ]
  },
  {
   "cell_type": "markdown",
   "id": "e5036573-03e5-4240-8458-41298db6056a",
   "metadata": {},
   "source": [
    "7. Write an is_empty_or_blank function to determine whether a string is either empty or consists entirely of spaces. "
   ]
  },
  {
   "cell_type": "code",
   "execution_count": 125,
   "id": "b8aee062-dbe1-4c7b-bb89-b069951bfb20",
   "metadata": {},
   "outputs": [
    {
     "name": "stdout",
     "output_type": "stream",
     "text": [
      "False\n",
      "True\n",
      "True\n"
     ]
    }
   ],
   "source": [
    "def is_empty_or_blank(string):\n",
    "    return string.strip(' \\n\\t\\r') == ''\n",
    "\n",
    "print(is_empty_or_blank('mars'))  # False\n",
    "print(is_empty_or_blank('  '))    # True\n",
    "print(is_empty_or_blank(''))      # True"
   ]
  },
  {
   "cell_type": "markdown",
   "id": "c93fc3e2-b0c9-4a00-bfc1-6562703fce9c",
   "metadata": {},
   "source": [
    "8. Write code that capitalizes the words in the string 'launch school tech & talk', so that you get the string 'Launch School Tech & Talk'."
   ]
  },
  {
   "cell_type": "code",
   "execution_count": 130,
   "id": "803a18f1-c122-423e-b315-206e19738c25",
   "metadata": {},
   "outputs": [
    {
     "name": "stdout",
     "output_type": "stream",
     "text": [
      "Launch School Tech & Talk\n",
      "Launch School Tech & Talk\n"
     ]
    }
   ],
   "source": [
    "import string\n",
    "my_string = 'launch school tech & talk'\n",
    "print(my_string.title())\n",
    "print(string.capwords(my_string))"
   ]
  },
  {
   "cell_type": "markdown",
   "id": "c86ec59f-df80-4482-b3bf-61af9e0459d5",
   "metadata": {},
   "source": [
    "9. Write a function that checks whether a string starts with a specific prefix."
   ]
  },
  {
   "cell_type": "code",
   "execution_count": 131,
   "id": "b57016c9-2d6e-4413-a3e0-acec90993a0d",
   "metadata": {},
   "outputs": [
    {
     "name": "stdout",
     "output_type": "stream",
     "text": [
      "True\n",
      "False\n",
      "True\n"
     ]
    }
   ],
   "source": [
    "def starts_with(string, substring):\n",
    "    return string.startswith(substring)\n",
    "    \n",
    "print(starts_with(\"launch\", \"la\"))   # True\n",
    "print(starts_with(\"school\", \"sah\"))  # False\n",
    "print(starts_with(\"school\", \"sch\"))  # True"
   ]
  },
  {
   "cell_type": "markdown",
   "id": "adb06fcd-f76a-4468-b1cc-1381dac0d59b",
   "metadata": {},
   "source": [
    "10. Write a function that counts the number of occurrences of a substring in a string."
   ]
  },
  {
   "cell_type": "code",
   "execution_count": 132,
   "id": "e3a862fd-6658-441e-a100-ce263165428b",
   "metadata": {},
   "outputs": [
    {
     "name": "stdout",
     "output_type": "stream",
     "text": [
      "3\n",
      "2\n",
      "0\n"
     ]
    }
   ],
   "source": [
    "def count_substrings(string, substring):\n",
    "    return string.count(substring)\n",
    "\n",
    "print(count_substrings(\"lemon lemon lemon\", \"lemon\")) # 3\n",
    "print(count_substrings(\"laLAlaLA\", \"la\")) # 2\n",
    "print(count_substrings(\"launch\", \"uno\")) # 0"
   ]
  },
  {
   "cell_type": "markdown",
   "id": "5dfc4ec3-b4ad-46b2-ad0a-92ade6b6541c",
   "metadata": {},
   "source": [
    "# Lists\n",
    "\n",
    "1. Write a function that returns the first element of a list provided as an argument. "
   ]
  },
  {
   "cell_type": "code",
   "execution_count": 138,
   "id": "92466435-3caf-40c3-9696-e2b33e7fa922",
   "metadata": {},
   "outputs": [
    {
     "name": "stdout",
     "output_type": "stream",
     "text": [
      "Earth\n",
      "None\n"
     ]
    }
   ],
   "source": [
    "def first(list):\n",
    "    return list[0] if list else None\n",
    "\n",
    "print(first(['Earth', 'Moon', 'Mars']))  # Earth\n",
    "print(first([]))"
   ]
  },
  {
   "cell_type": "markdown",
   "id": "abc27d7a-7ec2-431e-ad74-31732bc0cb39",
   "metadata": {},
   "source": [
    "2. Write a function that returns the last element of a list provided as an argument."
   ]
  },
  {
   "cell_type": "code",
   "execution_count": 139,
   "id": "aac8ad2c-c08b-4cc3-9aee-db411ba325e0",
   "metadata": {},
   "outputs": [
    {
     "name": "stdout",
     "output_type": "stream",
     "text": [
      "Mars\n",
      "None\n"
     ]
    }
   ],
   "source": [
    "def last(list):\n",
    "    return list[-1] if list else None\n",
    "\n",
    "print(last(['Earth', 'Moon', 'Mars']))  # Mars\n",
    "print(last([]))"
   ]
  },
  {
   "cell_type": "markdown",
   "id": "1504bfe5-e9b1-4eb4-8bcd-4e4cf497680b",
   "metadata": {},
   "source": [
    "3. Write some code to remove 'fossil' from the list, then add 'geothermal' to the end of the list."
   ]
  },
  {
   "cell_type": "code",
   "execution_count": 144,
   "id": "a26c09cd-48c6-4a3f-878e-e2449e395e46",
   "metadata": {},
   "outputs": [
    {
     "name": "stdout",
     "output_type": "stream",
     "text": [
      "['solar', 'wind', 'tidal', 'fusion', 'geothermal']\n"
     ]
    }
   ],
   "source": [
    "energy = ['fossil', 'solar', 'wind', 'tidal', 'fusion']\n",
    "\n",
    "if 'fossil' in energy:\n",
    "    energy.remove('fossil')\n",
    "    \n",
    "energy.append('geothermal')\n",
    "\n",
    "print(energy)"
   ]
  },
  {
   "cell_type": "markdown",
   "id": "02c8ad22-7671-4e14-bcb1-5ab50b5136b2",
   "metadata": {},
   "source": [
    "4. Split the string alphabet into a list of characters."
   ]
  },
  {
   "cell_type": "code",
   "execution_count": 146,
   "id": "5bcf44b1-2317-455c-b62d-61f0be221df9",
   "metadata": {},
   "outputs": [
    {
     "name": "stdout",
     "output_type": "stream",
     "text": [
      "['a', 'b', 'c', 'd', 'e', 'f', 'g', 'h', 'i', 'j', 'k', 'l', 'm', 'n', 'o', 'p', 'q', 'r', 's', 't', 'u', 'v', 'w', 'x', 'y', 'z']\n"
     ]
    }
   ],
   "source": [
    "alphabet = 'abcdefghijklmnopqrstuvwxyz'\n",
    "\n",
    "print(list(alphabet))"
   ]
  },
  {
   "cell_type": "markdown",
   "id": "54818d78-7e7f-43ae-ac04-25f90cec39e3",
   "metadata": {},
   "source": [
    "5. Count the number of elements in scores that are 100 or above."
   ]
  },
  {
   "cell_type": "code",
   "execution_count": 149,
   "id": "d3f2a874-cc6c-4756-be65-c53ee7133819",
   "metadata": {},
   "outputs": [
    {
     "name": "stdout",
     "output_type": "stream",
     "text": [
      "3\n",
      "3\n"
     ]
    }
   ],
   "source": [
    "scores = [96, 47, 113, 89, 100, 102]\n",
    "count = 0\n",
    "\n",
    "for score in scores:\n",
    "    if score >= 100:\n",
    "        count += 1\n",
    "\n",
    "print(count)\n",
    "\n",
    "high_scores = [score for score in scores if score >= 100]\n",
    "print(len(high_scores))\n"
   ]
  },
  {
   "cell_type": "markdown",
   "id": "bb13050a-d1cc-46d2-9b09-e4aa5f52e160",
   "metadata": {},
   "source": [
    "6. You've been given a list of vocabulary words grouped into sub-lists, by meaning. This is a two-dimensional list or a nested list. Write some code that iterates through and prints all the words, one per line."
   ]
  },
  {
   "cell_type": "code",
   "execution_count": 155,
   "id": "eced595b-84fd-47bb-9b3c-d9a909b1c1a5",
   "metadata": {},
   "outputs": [
    {
     "name": "stdout",
     "output_type": "stream",
     "text": [
      "happy\n",
      "cheerful\n",
      "merry\n",
      "glad\n",
      "tired\n",
      "sleepy\n",
      "fatigued\n",
      "drained\n",
      "excited\n",
      "eager\n",
      "enthused\n",
      "animated\n",
      "happy\n",
      "cheerful\n",
      "merry\n",
      "glad\n",
      "tired\n",
      "sleepy\n",
      "fatigued\n",
      "drained\n",
      "excited\n",
      "eager\n",
      "enthused\n",
      "animated\n"
     ]
    }
   ],
   "source": [
    "vocabulary = [\n",
    "    ['happy', 'cheerful', 'merry', 'glad'],\n",
    "    ['tired', 'sleepy', 'fatigued', 'drained'],\n",
    "    ['excited', 'eager', 'enthused', 'animated'],\n",
    "]\n",
    "\n",
    "for array in vocabulary:\n",
    "    for word in array:\n",
    "        print(word)\n",
    "\n",
    "words = [word for array in vocabulary for word in array]\n",
    "\n",
    "for word in words:\n",
    "    print(word)"
   ]
  },
  {
   "cell_type": "markdown",
   "id": "e319d398-d9e5-4c8f-8154-4bce4560b93d",
   "metadata": {},
   "source": [
    "7. Predict the output of the code shown below. When you run the code, do you see what you expected? Why or why not?\n",
    "\n",
    "I expect `True`. Testing for array equality checks:\n",
    "- equal length\n",
    "- element by element"
   ]
  },
  {
   "cell_type": "code",
   "execution_count": 156,
   "id": "ed902643-7171-411d-9988-682fb68b1b63",
   "metadata": {},
   "outputs": [
    {
     "name": "stdout",
     "output_type": "stream",
     "text": [
      "True\n"
     ]
    }
   ],
   "source": [
    "list1 = [2, 6, 4]\n",
    "list2 = [2, 6, 4]\n",
    "\n",
    "print(list1 == list2)"
   ]
  },
  {
   "cell_type": "markdown",
   "id": "ae724922-f551-4250-83eb-17aff460884a",
   "metadata": {},
   "source": [
    "8. How can you check if a variable holds a value that is a list? Given two variables, verify whether the values they hold are lists."
   ]
  },
  {
   "cell_type": "code",
   "execution_count": 159,
   "id": "84028cd1-5035-4a60-b19c-b9efb871577e",
   "metadata": {},
   "outputs": [
    {
     "name": "stdout",
     "output_type": "stream",
     "text": [
      "True\n",
      "False\n",
      "True\n",
      "False\n"
     ]
    }
   ],
   "source": [
    "some_value1 = [0, 1, 0, 0, 1]\n",
    "some_value2 = 'I leave you my Kingdom, take good care of it.'\n",
    "\n",
    "print(type(some_value1) is list)\n",
    "print(type(some_value2) is list)\n",
    "\n",
    "print(isinstance(some_value1, list))\n",
    "print(isinstance(some_value2, list))"
   ]
  },
  {
   "cell_type": "markdown",
   "id": "4ef8ea59-546e-4318-9a07-26649202cf17",
   "metadata": {},
   "source": [
    "9. Write a function that, without using the built-in in operator, checks whether a specific destination is included within destinations. For example: When checking whether 'Barcelona' is contained in destinations, the expected output is True, whereas the expected output for 'Nashville' is False."
   ]
  },
  {
   "cell_type": "code",
   "execution_count": 162,
   "id": "47568e81-4c0f-46ff-abd8-7e7c9b93b01b",
   "metadata": {},
   "outputs": [
    {
     "name": "stdout",
     "output_type": "stream",
     "text": [
      "True\n",
      "False\n"
     ]
    }
   ],
   "source": [
    "def contains(element, collection):\n",
    "    # return element in collection\n",
    "    for item in collection:\n",
    "        if item == element:\n",
    "            return True\n",
    "            \n",
    "    return False\n",
    "\n",
    "destinations = ['Prague', 'London', 'Sydney', 'Belfast',\n",
    "                'Rome', 'Aruba', 'Paris', 'Bora Bora',\n",
    "                'Barcelona', 'Rio de Janeiro', 'Marrakesh',\n",
    "                'New York City']\n",
    "\n",
    "print(contains('Barcelona', destinations))  # True\n",
    "print(contains('Nashville', destinations))  # False"
   ]
  },
  {
   "cell_type": "markdown",
   "id": "801196fb-c58f-4bea-9774-100ffe89fe5a",
   "metadata": {},
   "source": [
    "10. We generated parts of a passcode and now want to combine them into a string. Write some code that returns a string, with each portion of the passcode separated by a hyphen (-)."
   ]
  },
  {
   "cell_type": "code",
   "execution_count": 163,
   "id": "65fb37ea-b979-4741-9815-8fbdcdeea179",
   "metadata": {},
   "outputs": [
    {
     "name": "stdout",
     "output_type": "stream",
     "text": [
      "11-jZ5-hQ3f*-8!7g3-p3Fs\n"
     ]
    }
   ],
   "source": [
    "passcode = ['11', 'jZ5', 'hQ3f*', '8!7g3', 'p3Fs']\n",
    "\n",
    "print('-'.join(passcode))\n",
    "# Expected return value: '11-jZ5-hQ3f*-8!7g3-p3Fs'"
   ]
  },
  {
   "cell_type": "markdown",
   "id": "b3d72166-7a6d-4ae4-8537-be3a2dce5c2e",
   "metadata": {},
   "source": [
    "11. We have a grocery list. As we check off items on that list, we want to remove them from the list.\n",
    "\n",
    "Write code that removes the items from grocery_list, one by one, until it is empty. If you print the elements you remove, the expected behavior would look as follows."
   ]
  },
  {
   "cell_type": "code",
   "execution_count": 164,
   "id": "12cd75f2-7ca8-4dff-971e-d049330d3b01",
   "metadata": {},
   "outputs": [
    {
     "name": "stdout",
     "output_type": "stream",
     "text": [
      "paprika\n",
      "tofu\n",
      "garlic\n",
      "quinoa\n",
      "carrots\n",
      "broccoli\n",
      "hummus\n",
      "[]\n"
     ]
    }
   ],
   "source": [
    "grocery_list = ['paprika', 'tofu', 'garlic', 'quinoa',\n",
    "                'carrots', 'broccoli', 'hummus']\n",
    "\n",
    "while grocery_list:\n",
    "    print(grocery_list.pop(0))\n",
    "\n",
    "print(grocery_list)"
   ]
  },
  {
   "cell_type": "markdown",
   "id": "18266d7b-7282-402c-ade8-7611c391f670",
   "metadata": {},
   "source": [
    "# Dictionaries\n",
    "\n",
    "1. Create a dictionary that contains the following data, and assign it to a variable named car.\n",
    "\n",
    "type\tcolor\tmileage\n",
    "sedan\tblue\t80000"
   ]
  },
  {
   "cell_type": "code",
   "execution_count": 165,
   "id": "eb38ce2c-460d-4b34-a9cb-5fb82a0aa1d5",
   "metadata": {},
   "outputs": [
    {
     "name": "stdout",
     "output_type": "stream",
     "text": [
      "{'type': 'sedan', 'color': 'blue', 'mileage': 80000}\n"
     ]
    }
   ],
   "source": [
    "car = {\n",
    "    'type': 'sedan',\n",
    "    'color': 'blue',\n",
    "    'mileage': 80000\n",
    "}\n",
    "\n",
    "print(car)"
   ]
  },
  {
   "cell_type": "markdown",
   "id": "d15c3553-9507-4b51-8085-7a29f3f69ca3",
   "metadata": {},
   "source": [
    "2. Add some code below the following code to define a year key with a value of 2003. Don't update the dictionary literal; instead, add some code after lines 1-5:"
   ]
  },
  {
   "cell_type": "code",
   "execution_count": 167,
   "id": "0077f945-ea38-400e-9cf2-7d2f8f3e61af",
   "metadata": {},
   "outputs": [
    {
     "name": "stdout",
     "output_type": "stream",
     "text": [
      "{'type': 'sedan', 'color': 'blue', 'mileage': 80000, 'year': 2003}\n"
     ]
    }
   ],
   "source": [
    "car = {\n",
    "    'type':    'sedan',\n",
    "    'color':   'blue',\n",
    "    'mileage': 80_000,\n",
    "}\n",
    "\n",
    "car['year'] = 2003\n",
    "print(car)"
   ]
  },
  {
   "cell_type": "markdown",
   "id": "b28250a2-60f8-4779-83b0-27fd3e6f5371",
   "metadata": {},
   "source": [
    "3. Using the following code, delete the 'mileage' key and its associated value from car."
   ]
  },
  {
   "cell_type": "code",
   "execution_count": 168,
   "id": "a83c74c3-3c33-4d88-a9b3-6114753eac67",
   "metadata": {},
   "outputs": [
    {
     "name": "stdout",
     "output_type": "stream",
     "text": [
      "{'type': 'sedan', 'color': 'blue', 'year': 2003}\n"
     ]
    }
   ],
   "source": [
    "car = {\n",
    "    'type':    'sedan',\n",
    "    'color':   'blue',\n",
    "    'mileage': 80_000,\n",
    "    'year':    2003,\n",
    "}\n",
    "\n",
    "del car['mileage']\n",
    "print(car)"
   ]
  },
  {
   "cell_type": "markdown",
   "id": "77445c5e-dc11-4e1e-b934-31bfbcdf3182",
   "metadata": {},
   "source": [
    "4. Using the following code, select and print the value 'blue' from the car object:"
   ]
  },
  {
   "cell_type": "code",
   "execution_count": 169,
   "id": "b5e73a6f-e99b-4e6a-8640-edcb45554c35",
   "metadata": {},
   "outputs": [
    {
     "name": "stdout",
     "output_type": "stream",
     "text": [
      "blue\n"
     ]
    }
   ],
   "source": [
    "car = {\n",
    "    'type':  'sedan',\n",
    "    'color': 'blue',\n",
    "    'year':  2003,\n",
    "}\n",
    "\n",
    "print(car['color'])"
   ]
  },
  {
   "cell_type": "markdown",
   "id": "517a8572-f459-4cb1-9c91-d96a0b4db87e",
   "metadata": {},
   "source": [
    "5. Calculate and print the number of key/value pairs in the following dictionary:"
   ]
  },
  {
   "cell_type": "code",
   "execution_count": 170,
   "id": "a5f28019-8bbb-41c6-8dcb-e95e8507c77e",
   "metadata": {},
   "outputs": [
    {
     "name": "stdout",
     "output_type": "stream",
     "text": [
      "3\n"
     ]
    }
   ],
   "source": [
    "car = {\n",
    "    'type':  'sedan',\n",
    "    'color': 'blue',\n",
    "    'year':  2003,\n",
    "}\n",
    "\n",
    "print(len(car))"
   ]
  },
  {
   "cell_type": "markdown",
   "id": "4a30644b-6671-448b-a495-7aa43b1b14fd",
   "metadata": {},
   "source": [
    "6. Check whether the keys 'name' and 'grade' exist in the following dictionary:"
   ]
  },
  {
   "cell_type": "code",
   "execution_count": 171,
   "id": "4331343e-d5e5-4f89-9246-00a91ff82f98",
   "metadata": {},
   "outputs": [
    {
     "name": "stdout",
     "output_type": "stream",
     "text": [
      "False\n",
      "True\n"
     ]
    }
   ],
   "source": [
    "student = {\n",
    "    'id': 123,\n",
    "    'grade': 'B',\n",
    "}\n",
    "\n",
    "print('name' in student)\n",
    "print('grade' in student)"
   ]
  },
  {
   "cell_type": "markdown",
   "id": "23b2f02c-2f16-4324-bfa4-ee28de71c004",
   "metadata": {},
   "source": [
    "7. Create a nested dictionary that contains the following data.\n",
    "\n",
    "Car\n",
    "\n",
    "type\tcolor\tyear\n",
    "sedan\tblue\t2003\n",
    "Truck\n",
    "\n",
    "type\tcolor\tyear\n",
    "pickup\tred\t1998"
   ]
  },
  {
   "cell_type": "code",
   "execution_count": 173,
   "id": "46602598-26eb-42ce-b6df-9dd0f67579a9",
   "metadata": {},
   "outputs": [
    {
     "name": "stdout",
     "output_type": "stream",
     "text": [
      "{'car': {'type': 'sedan', 'color': 'blue', 'year': 2003}, 'truck': {'type': 'pickup', 'color': 'red', 'year': 1998}}\n"
     ]
    }
   ],
   "source": [
    "vehicles = {\n",
    "    'car': {\n",
    "        'type': 'sedan',\n",
    "        'color': 'blue',\n",
    "        'year': 2003\n",
    "    },\n",
    "    'truck': {\n",
    "        'type': 'pickup',\n",
    "        'color': 'red',\n",
    "        'year': 1998\n",
    "    }\n",
    "}\n",
    "\n",
    "print(vehicles)"
   ]
  },
  {
   "cell_type": "markdown",
   "id": "fe01c6fb-83d5-4870-ba8c-e2aeb0ff0800",
   "metadata": {},
   "source": [
    "8. Rewrite car as a nested list containing the same key/value pairs."
   ]
  },
  {
   "cell_type": "code",
   "execution_count": null,
   "id": "ec8d6209-3276-466f-9484-f0e16579cfa2",
   "metadata": {},
   "outputs": [],
   "source": [
    "car = {\n",
    "    'type':  'sedan',\n",
    "    'color': 'blue',\n",
    "    'year':  2003,\n",
    "}"
   ]
  },
  {
   "cell_type": "markdown",
   "id": "c8d16eab-41b0-4539-9d55-2aad30364e09",
   "metadata": {},
   "source": [
    "9. Use a for loop to iterate over the numbers dictionary and return a list containing each number divided by 2. Assign the returned list to a variable named half_numbers and print its value using print."
   ]
  },
  {
   "cell_type": "code",
   "execution_count": 179,
   "id": "6753574f-f02a-4601-9dcc-7fe441c324b1",
   "metadata": {},
   "outputs": [
    {
     "name": "stdout",
     "output_type": "stream",
     "text": [
      "[50, 25, 5]\n"
     ]
    }
   ],
   "source": [
    "numbers = {\n",
    "    'high':   100,\n",
    "    'medium': 50,\n",
    "    'low':    10,\n",
    "}\n",
    "\n",
    "half_numbers = []\n",
    "\n",
    "for value in numbers.values():\n",
    "    half_numbers.append(value // 2)\n",
    "    \n",
    "# for key, value in numbers.items():\n",
    "#    half_numbers.append(value // 2)\n",
    "\n",
    "print(half_numbers)"
   ]
  },
  {
   "cell_type": "markdown",
   "id": "9a94f3c2-9e17-45b1-89aa-928e1fe89e2a",
   "metadata": {},
   "source": [
    "10. Use a for loop to iterate over the numbers dictionary and print each element's key/value pair."
   ]
  },
  {
   "cell_type": "code",
   "execution_count": 180,
   "id": "7be5b683-2176-4289-bd36-25f611fd8e50",
   "metadata": {},
   "outputs": [
    {
     "name": "stdout",
     "output_type": "stream",
     "text": [
      "A high number is 100.\n",
      "A medium number is 50.\n",
      "A low number is 10.\n"
     ]
    }
   ],
   "source": [
    "numbers = {\n",
    "    'high':   100,\n",
    "    'medium': 50,\n",
    "    'low':    10,\n",
    "}\n",
    "\n",
    "for key, value in numbers.items():\n",
    "    print(f'A {key} number is {value}.')"
   ]
  },
  {
   "cell_type": "markdown",
   "id": "52a68bac-9b54-43e4-a1e3-6a472c475a91",
   "metadata": {},
   "source": [
    "# Debugging\n",
    "\n",
    "1. You come across the following code. What errors does it raise for the given examples and what exactly do the error messages mean?\n",
    "\n",
    "`TypeError`: first function invocation has too many arguments; the function is expecting a single iterable as an argument. Second function invocation: `int` is not iterable"
   ]
  },
  {
   "cell_type": "code",
   "execution_count": 182,
   "id": "3a850b47-af0e-4b11-a0ca-8303c6102d11",
   "metadata": {},
   "outputs": [
    {
     "ename": "TypeError",
     "evalue": "'int' object is not iterable",
     "output_type": "error",
     "traceback": [
      "\u001b[0;31m---------------------------------------------------------------------------\u001b[0m",
      "\u001b[0;31mTypeError\u001b[0m                                 Traceback (most recent call last)",
      "Cell \u001b[0;32mIn[182], line 7\u001b[0m\n\u001b[1;32m      4\u001b[0m             \u001b[38;5;28;01mreturn\u001b[39;00m n\n\u001b[1;32m      6\u001b[0m \u001b[38;5;66;03m#find_first_nonzero_among(0, 0, 1, 0, 2, 0)\u001b[39;00m\n\u001b[0;32m----> 7\u001b[0m \u001b[43mfind_first_nonzero_among\u001b[49m\u001b[43m(\u001b[49m\u001b[38;5;241;43m1\u001b[39;49m\u001b[43m)\u001b[49m\n",
      "Cell \u001b[0;32mIn[182], line 2\u001b[0m, in \u001b[0;36mfind_first_nonzero_among\u001b[0;34m(numbers)\u001b[0m\n\u001b[1;32m      1\u001b[0m \u001b[38;5;28;01mdef\u001b[39;00m \u001b[38;5;21mfind_first_nonzero_among\u001b[39m(numbers):\n\u001b[0;32m----> 2\u001b[0m \u001b[43m    \u001b[49m\u001b[38;5;28;43;01mfor\u001b[39;49;00m\u001b[43m \u001b[49m\u001b[43mn\u001b[49m\u001b[43m \u001b[49m\u001b[38;5;129;43;01min\u001b[39;49;00m\u001b[43m \u001b[49m\u001b[43mnumbers\u001b[49m\u001b[43m:\u001b[49m\n\u001b[1;32m      3\u001b[0m \u001b[43m        \u001b[49m\u001b[38;5;28;43;01mif\u001b[39;49;00m\u001b[43m \u001b[49m\u001b[43mn\u001b[49m\u001b[43m \u001b[49m\u001b[38;5;241;43m!=\u001b[39;49m\u001b[43m \u001b[49m\u001b[38;5;241;43m0\u001b[39;49m\u001b[43m:\u001b[49m\n\u001b[1;32m      4\u001b[0m \u001b[43m            \u001b[49m\u001b[38;5;28;43;01mreturn\u001b[39;49;00m\u001b[43m \u001b[49m\u001b[43mn\u001b[49m\n",
      "\u001b[0;31mTypeError\u001b[0m: 'int' object is not iterable"
     ]
    }
   ],
   "source": [
    "def find_first_nonzero_among(numbers):\n",
    "    for n in numbers:\n",
    "        if n != 0:\n",
    "            return n\n",
    "\n",
    "#find_first_nonzero_among(0, 0, 1, 0, 2, 0)\n",
    "find_first_nonzero_among(1)"
   ]
  },
  {
   "cell_type": "markdown",
   "id": "cc9c4092-ea11-4613-b6b2-619fd218d0dc",
   "metadata": {},
   "source": [
    "2. Our predict_weather function should output a message indicating whether a sunny or cloudy day lies ahead. However, the output is the same every time the function is invoked. Why? Fix the code so that it behaves as expected.\n",
    "\n",
    "`if sunshine` returns True if `sunshine` is not an empty string (and it won't be). We can fix this by changing the random values from string to boolean literals."
   ]
  },
  {
   "cell_type": "code",
   "execution_count": 190,
   "id": "8c8218cd-385a-4e9e-89d3-e3b53b92a52c",
   "metadata": {},
   "outputs": [
    {
     "name": "stdout",
     "output_type": "stream",
     "text": [
      "Today's weather will be cloudy!\n"
     ]
    }
   ],
   "source": [
    "import random\n",
    "\n",
    "def predict_weather():\n",
    "    sunshine = random.choice([True, False])\n",
    "\n",
    "    if sunshine:\n",
    "        print(\"Today's weather will be sunny!\")\n",
    "    else:\n",
    "        print(\"Today's weather will be cloudy!\")\n",
    "\n",
    "predict_weather()"
   ]
  },
  {
   "cell_type": "markdown",
   "id": "f1cbb7af-c842-49fb-87eb-a851bb9f04a7",
   "metadata": {},
   "source": [
    "3. When the user inputs 10, we expect the program to print The result is 50!, but that's not the output we see. Why not?\n",
    "\n",
    "When we read input from the terminal, it is read in as a string; at no point are we converting the string to an `int` in order to perform multiplication; instead it performs string repetition.  We fix this by converting the input to `int`."
   ]
  },
  {
   "cell_type": "code",
   "execution_count": 192,
   "id": "911ffc65-2e78-44d3-870e-0cace03d4295",
   "metadata": {},
   "outputs": [
    {
     "name": "stdout",
     "output_type": "stream",
     "text": [
      "Hello! Which number would you like to multiply by 5?\n"
     ]
    },
    {
     "name": "stdin",
     "output_type": "stream",
     "text": [
      " 10\n"
     ]
    },
    {
     "name": "stdout",
     "output_type": "stream",
     "text": [
      "The result is 50!\n"
     ]
    }
   ],
   "source": [
    "def multiply_by_five(n):\n",
    "    return n * 5\n",
    "\n",
    "print(\"Hello! Which number would you like to multiply by 5?\")\n",
    "number = int(input())\n",
    "\n",
    "print(f\"The result is {multiply_by_five(number)}!\")"
   ]
  },
  {
   "cell_type": "markdown",
   "id": "8a28eca9-cc87-451d-921d-f3430f8d21d8",
   "metadata": {},
   "source": [
    "4. Magdalena has just adopted a new pet! She wants to add her new dog, Bowser, to the pets dictionary. After doing so, she realizes that her dogs Sparky and Fido have been mistakenly removed. Help Magdalena fix her code so that all three of her dogs' names will be associated with the key 'dog' in the pets dictionary.\n",
    "\n",
    "the key 'dog' references a list, and Magdalena is replacing that list with a string value. To fix this, we should append the new dog name to the list."
   ]
  },
  {
   "cell_type": "code",
   "execution_count": 193,
   "id": "13fd6b87-94bd-4ee1-a090-a3ed453c26b1",
   "metadata": {},
   "outputs": [
    {
     "name": "stdout",
     "output_type": "stream",
     "text": [
      "{'cat': 'pepe', 'dog': ['sparky', 'fido', 'bowser'], 'fish': 'oscar'}\n"
     ]
    }
   ],
   "source": [
    "pets = { 'cat': 'pepe', 'dog': ['sparky', 'fido'], 'fish': 'oscar' }\n",
    "\n",
    "# pets['dog'] = 'bowser'\n",
    "pets['dog'].append('bowser')\n",
    "print(pets)  # Output: {'cat': 'pepe', 'dog': 'bowser', 'fish': 'oscar'}"
   ]
  },
  {
   "cell_type": "markdown",
   "id": "5fbff181-7c1b-497b-b8ed-6e8fa92386be",
   "metadata": {},
   "source": [
    "5. You want to have a small script delivering motivational quotes, but with the following code you run into a very common error message: TypeError: can only concatenate str (not \"NoneType\") to str. What is the problem and how can you fix it?\n",
    "\n",
    "The problem is that there is no explicit return statement in the function, in which case a function will return `None`. We fix this by using return statements. "
   ]
  },
  {
   "cell_type": "code",
   "execution_count": 195,
   "id": "312c993a-99ec-4d08-9a56-bd0ce1ad765d",
   "metadata": {},
   "outputs": [
    {
     "name": "stdout",
     "output_type": "stream",
     "text": [
      "Confucius says:\n",
      "\"I hear and I forget. I see and I remember. I do and I understand.\"\n"
     ]
    }
   ],
   "source": [
    "def get_quote(person):\n",
    "    if person == 'Yoda':\n",
    "        return 'Do. Or do not. There is no try.'\n",
    "    if person == 'Confucius':\n",
    "        return 'I hear and I forget. I see and I remember. I do and I understand.'\n",
    "    if person == 'Einstein':\n",
    "        return 'Do not worry about your difficulties in Mathematics. I can assure you mine are still greater.'\n",
    "\n",
    "print('Confucius says:')\n",
    "print('\"' + get_quote('Confucius') + '\"')"
   ]
  },
  {
   "cell_type": "markdown",
   "id": "9528ab67-57c4-435f-99dd-8620c0ed6fff",
   "metadata": {},
   "source": [
    "6. You want to add the numbers from 1 to 5 to a list, but the code below is not producing the expected result. How can you fix it?\n",
    "\n",
    "The range is not defined appropriately. `range(5)` will return values 0 through 4"
   ]
  },
  {
   "cell_type": "code",
   "execution_count": 196,
   "id": "16f2d827-a2f7-41fe-b772-5f2616466d33",
   "metadata": {},
   "outputs": [
    {
     "name": "stdout",
     "output_type": "stream",
     "text": [
      "[1, 2, 3, 4, 5]\n"
     ]
    }
   ],
   "source": [
    "numbers = []\n",
    "\n",
    "for i in range(1, 6):\n",
    "    numbers.append(i)\n",
    "\n",
    "print(numbers)"
   ]
  },
  {
   "cell_type": "markdown",
   "id": "033bd2e7-dcef-4f12-a081-7cdc04afd8fe",
   "metadata": {},
   "source": [
    "7. You are trying to access a value in a dictionary, but the code is giving you an error. Can you change line 3 so that it prints \"Unknown\" instead of raising an error?\n",
    "\n",
    "We can use the method `get()` along with a default value; this will seek the value for a key and then return the default value if the key is not in the dictionary."
   ]
  },
  {
   "cell_type": "code",
   "execution_count": 197,
   "id": "8a2d9374-cff9-4203-8ecb-e7c8caf1b2fa",
   "metadata": {},
   "outputs": [
    {
     "name": "stdout",
     "output_type": "stream",
     "text": [
      "Unknown\n"
     ]
    }
   ],
   "source": [
    "info = {'name': 'Srdjan', 'age': 38}\n",
    "\n",
    "print(info.get('city', 'Unknown'))"
   ]
  },
  {
   "cell_type": "markdown",
   "id": "c81e66f1-00b8-4162-861b-e3b220d6986f",
   "metadata": {},
   "source": [
    "8. We wanted to create a matrix 3x3 so we could use it to build a Tic-Tac-Toe game. However, we encountered an issue, as whenever we change a value in one nested list, all nested lists are affected. Can you fix the code?\n",
    "\n",
    "The problem here is that we are appending a reference to the same array three times. When we append, we should append a copy of the original array."
   ]
  },
  {
   "cell_type": "code",
   "execution_count": 198,
   "id": "61da7d81-48ea-4ae4-8ea0-a7a7690da960",
   "metadata": {},
   "outputs": [
    {
     "name": "stdout",
     "output_type": "stream",
     "text": [
      "[['X', '-', '-'], ['-', '-', '-'], ['-', '-', '-']]\n"
     ]
    }
   ],
   "source": [
    "sub_list = [\"-\", \"-\", \"-\"]\n",
    "matrix = []\n",
    "\n",
    "for _ in range(3):\n",
    "    matrix.append(sub_list[::])\n",
    "    # or matrix.append(sub_list.copy())\n",
    "\n",
    "matrix[0][0] = \"X\"\n",
    "print(matrix) # [['X', '-', '-'], ['X', '-', '-'], ['X', '-', '-']]"
   ]
  },
  {
   "cell_type": "markdown",
   "id": "24f56751-a63d-4b40-8987-bb2800c836ef",
   "metadata": {},
   "source": [
    "9. Your colleague has implemented a custom function to find the maximum value in a list. However, the function sometimes works correctly, but other times it produces incorrect results. Can you help your colleague fix the bug?\n",
    "\n",
    "We are initializing `max_number` to 0, which does not account for a collection of all negative numbers. More appropriate would be to set this value to negative infinity, which we can do by importing the math module and using `-math.inf`. \n",
    "\n",
    "Note: we can use `float('-inf')` without importing the math module."
   ]
  },
  {
   "cell_type": "code",
   "execution_count": 200,
   "id": "2709672b-21d6-48e5-aeed-9219ed0a6ebf",
   "metadata": {},
   "outputs": [
    {
     "name": "stdout",
     "output_type": "stream",
     "text": [
      "98\n",
      "5\n",
      "-2\n"
     ]
    }
   ],
   "source": [
    "import math\n",
    "\n",
    "def find_maximum(numbers):\n",
    "    if not numbers:\n",
    "        return None\n",
    "    max_number = -math.inf\n",
    "    for number in numbers:\n",
    "        if number > max_number:\n",
    "            max_number = number\n",
    "    return max_number\n",
    "\n",
    "print(find_maximum([45, 3, 10, 98, 22]))  # Expected 98\n",
    "print(find_maximum([-1, 0, 5, 3]))         # Expected 5\n",
    "print(find_maximum([-10, -3, -20, -2]))   # Expected -2"
   ]
  },
  {
   "cell_type": "markdown",
   "id": "b4251a9e-f1ba-4a3b-8a6c-169f0b84a65d",
   "metadata": {},
   "source": [
    "10. You've been asked to implement a function called digit_product that takes a string of digits as an argument and returns the product of all the digits in the string.\n",
    "\n",
    "When testing the function, you find that it returns 0, which is not what you expect. Can you identify the issue and correct the code?\n",
    "\n",
    "The issue is that we are initializing our product to 0, so anything multiplied by it will result in 0. We should initialize our product to 1."
   ]
  },
  {
   "cell_type": "code",
   "execution_count": 202,
   "id": "5f57f7d6-bd05-48d9-9018-7666b82c70e3",
   "metadata": {},
   "outputs": [
    {
     "name": "stdout",
     "output_type": "stream",
     "text": [
      "120\n"
     ]
    }
   ],
   "source": [
    "def digit_product(str_num):\n",
    "    digits = [int(n) for n in str_num]\n",
    "    product = 1\n",
    "\n",
    "    for digit in digits:\n",
    "        product *= digit\n",
    "\n",
    "    return product\n",
    "\n",
    "result = digit_product('12345')\n",
    "print(result)  # expected: 120, actual: 0"
   ]
  }
 ],
 "metadata": {
  "kernelspec": {
   "display_name": "Python 3 (ipykernel)",
   "language": "python",
   "name": "python3"
  },
  "language_info": {
   "codemirror_mode": {
    "name": "ipython",
    "version": 3
   },
   "file_extension": ".py",
   "mimetype": "text/x-python",
   "name": "python",
   "nbconvert_exporter": "python",
   "pygments_lexer": "ipython3",
   "version": "3.12.2"
  }
 },
 "nbformat": 4,
 "nbformat_minor": 5
}
